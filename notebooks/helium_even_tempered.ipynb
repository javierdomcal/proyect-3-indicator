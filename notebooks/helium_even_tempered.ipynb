{
 "cells": [
  {
   "cell_type": "code",
   "execution_count": 1,
   "metadata": {},
   "outputs": [],
   "source": [
    "# Even tempered for helium like"
   ]
  },
  {
   "cell_type": "code",
   "execution_count": 2,
   "metadata": {},
   "outputs": [
    {
     "name": "stderr",
     "output_type": "stream",
     "text": [
      "Error initializing database: no such column: property_id\n",
      "Error initializing database: no such column: property_id\n",
      "INFO:project_3_indicator.input.specification:Creating input specification for helium with CASSCF(2,2)/5SPD\n",
      "INFO:project_3_indicator.input.specification:Using default basis set '5SPD'.\n",
      "INFO:project_3_indicator.handler.calculation:Processing calculation for helium with CASSCF(2,2)/5SPD\n",
      "INFO:project_3_indicator.handler.calculation:Created new calculation with ID: 244391\n",
      "INFO:root:Pair density nucleus property detected for 244391. Needs more calculations\n"
     ]
    },
    {
     "name": "stdout",
     "output_type": "stream",
     "text": [
      "Connected to atlas.\n",
      "Geometry for helium successfully loaded.\n",
      "Method name: CASSCF(2,2) False\n",
      "Configuration: SP\n",
      "Method: CASSCF(2,2)\n",
      "Basis: 5SPD\n",
      "Molecule: helium\n",
      "Molecule: helium\n",
      "Number of atoms: 1\n",
      "Geometry data: [['He', 0.0, 0.0, 0.0]]\n",
      "Grid: atom molecule\n",
      "(0, 0.0)\n",
      "(0, 0)\n",
      "(3, 0.05)\n",
      "Grid: $Grid\n",
      "0.0 0 0.0\n",
      "0.0 0 0\n",
      "0.0 3 0.05\n",
      "\n",
      "otr\n",
      "pair_density_nucleus\n",
      "indicator_dynamic\n",
      "Even-tempered coefficients loaded: alpha=63.8081045376565, beta=0.25414145034375\n",
      "Even-tempered coefficients loaded: alpha=63.8081045376565, beta=0.25414145034375\n",
      "['density', 'on_top', 'pair_density_nucleus']\n"
     ]
    },
    {
     "name": "stderr",
     "output_type": "stream",
     "text": [
      "ERROR:root:Error executing command: ls: cannot access /dipc/javidom/proyect-3-indicator/244391: No such file or directory\n",
      "\n",
      "INFO:root:Command output: \n",
      "INFO:root:Created directory: /dipc/javidom/proyect-3-indicator/244391\n",
      "INFO:root:Created new colony directory: /dipc/javidom/proyect-3-indicator/244391\n",
      "INFO:root:Command output: \n",
      "INFO:root:Created directory: /scratch/javidom/proyect-3-indicator/244391\n",
      "INFO:root:Created fresh scratch directory: /scratch/javidom/proyect-3-indicator/244391\n"
     ]
    },
    {
     "name": "stdout",
     "output_type": "stream",
     "text": [
      "Gaussian input file './test/244391.com' generated successfully.\n"
     ]
    },
    {
     "name": "stderr",
     "output_type": "stream",
     "text": [
      "INFO:root:Generated Gaussian SLURM script at test/244391_gaussian.slurm\n"
     ]
    },
    {
     "name": "stdout",
     "output_type": "stream",
     "text": [
      "Uploaded test/244391.com to /dipc/javidom/proyect-3-indicator/244391/244391.com on the cluster.\n"
     ]
    },
    {
     "name": "stderr",
     "output_type": "stream",
     "text": [
      "INFO:root:Input files prepared for 244391\n"
     ]
    },
    {
     "name": "stdout",
     "output_type": "stream",
     "text": [
      "Uploaded test/244391_gaussian.slurm to /dipc/javidom/proyect-3-indicator/244391/244391_gaussian.slurm on the cluster.\n"
     ]
    },
    {
     "name": "stderr",
     "output_type": "stream",
     "text": [
      "INFO:root:Command output: \n",
      "INFO:root:Command output: /scratch/javidom/proyect-3-indicator/244391/244391.com\n",
      "\n",
      "INFO:root:Moved 244391.com from colony to scratch for 244391\n",
      "INFO:root:Command output: \n",
      "INFO:root:Command output: /scratch/javidom/proyect-3-indicator/244391/244391_gaussian.slurm\n",
      "\n",
      "INFO:root:Moved 244391_gaussian.slurm from colony to scratch for 244391\n",
      "INFO:root:Command output: Submitted batch job 2522379\n",
      "\n",
      "INFO:root:Submitted job with ID 2522379 for 244391_gaussian\n",
      "INFO:root:Submitted job 2522379 for 244391_gaussian\n",
      "INFO:root:Monitoring job 2522379 for 244391_gaussian...\n",
      "INFO:root:Command output:                JOBID   PARTITION         QOS                  NAME          USER    ST         TIME  NODES  NODELIST(REASON)\n",
      "             2522379     general     regular       244391_gaussian       javidom    PD         0:00      1  (Priority)\n",
      "\n",
      "INFO:root:Job 2522379 for 244391_gaussian still running, checking again in 1 seconds\n",
      "INFO:root:Command output:                JOBID   PARTITION         QOS                  NAME          USER    ST         TIME  NODES  NODELIST(REASON)\n",
      "             2522379     general     regular       244391_gaussian       javidom    PD         0:00      1  (Priority)\n",
      "\n",
      "INFO:root:Job 2522379 for 244391_gaussian still running, checking again in 2 seconds\n",
      "INFO:root:Command output:                JOBID   PARTITION         QOS                  NAME          USER    ST         TIME  NODES  NODELIST(REASON)\n",
      "             2522379     general     regular       244391_gaussian       javidom    PD         0:00      1  (Priority)\n",
      "\n",
      "INFO:root:Job 2522379 for 244391_gaussian still running, checking again in 4 seconds\n",
      "INFO:root:Command output:                JOBID   PARTITION         QOS                  NAME          USER    ST         TIME  NODES  NODELIST(REASON)\n",
      "             2522379     general     regular       244391_gaussian       javidom    PD         0:00      1  (Priority)\n",
      "\n",
      "INFO:root:Job 2522379 for 244391_gaussian still running, checking again in 8 seconds\n",
      "INFO:root:Command output:                JOBID   PARTITION         QOS                  NAME          USER    ST         TIME  NODES  NODELIST(REASON)\n",
      "             2522379     general     regular       244391_gaussian       javidom     R         0:04      1  atlas-316\n",
      "\n",
      "INFO:root:Job 2522379 for 244391_gaussian still running, checking again in 16 seconds\n",
      "INFO:root:Command output:                JOBID   PARTITION         QOS                  NAME          USER    ST         TIME  NODES  NODELIST(REASON)\n",
      "\n",
      "INFO:root:Job 2522379 for 244391_gaussian completed after 0:00:34.744864\n",
      "INFO:root:Job 2522379 completed successfully\n",
      "INFO:root:Job 2522379 completed successfully for 244391\n",
      "INFO:root:Command output: \n"
     ]
    },
    {
     "name": "stdout",
     "output_type": "stream",
     "text": [
      "Method name: HF True\n",
      "Gaussian input file './test/244391_hf.com' generated successfully.\n"
     ]
    },
    {
     "name": "stderr",
     "output_type": "stream",
     "text": [
      "INFO:root:Generated Gaussian SLURM script at test/244391_hf_gaussian.slurm\n"
     ]
    },
    {
     "name": "stdout",
     "output_type": "stream",
     "text": [
      "Uploaded test/244391_hf.com to /dipc/javidom/proyect-3-indicator/244391/244391_hf.com on the cluster.\n"
     ]
    },
    {
     "name": "stderr",
     "output_type": "stream",
     "text": [
      "INFO:root:Input files prepared for 244391_hf\n"
     ]
    },
    {
     "name": "stdout",
     "output_type": "stream",
     "text": [
      "Uploaded test/244391_hf_gaussian.slurm to /dipc/javidom/proyect-3-indicator/244391/244391_hf_gaussian.slurm on the cluster.\n"
     ]
    },
    {
     "name": "stderr",
     "output_type": "stream",
     "text": [
      "INFO:root:Command output: \n",
      "INFO:root:Command output: /scratch/javidom/proyect-3-indicator/244391/244391_hf.com\n",
      "\n",
      "INFO:root:Moved 244391_hf.com from colony to scratch for 244391\n",
      "INFO:root:Command output: \n",
      "INFO:root:Command output: /scratch/javidom/proyect-3-indicator/244391/244391_hf_gaussian.slurm\n",
      "\n",
      "INFO:root:Moved 244391_hf_gaussian.slurm from colony to scratch for 244391\n",
      "INFO:root:Command output: Submitted batch job 2522380\n",
      "\n",
      "INFO:root:Submitted job with ID 2522380 for 244391_hf_gaussian\n",
      "INFO:root:Submitted job 2522380 for 244391_hf_gaussian\n",
      "INFO:root:Monitoring job 2522380 for 244391_hf_gaussian...\n",
      "INFO:root:Command output:                JOBID   PARTITION         QOS                  NAME          USER    ST         TIME  NODES  NODELIST(REASON)\n",
      "             2522380     general     regular    244391_hf_gaussian       javidom    PD         0:00      1  (Priority)\n",
      "\n",
      "INFO:root:Job 2522380 for 244391_hf_gaussian still running, checking again in 1 seconds\n",
      "INFO:root:Command output:                JOBID   PARTITION         QOS                  NAME          USER    ST         TIME  NODES  NODELIST(REASON)\n",
      "             2522380     general     regular    244391_hf_gaussian       javidom    PD         0:00      1  (Priority)\n",
      "\n",
      "INFO:root:Job 2522380 for 244391_hf_gaussian still running, checking again in 2 seconds\n",
      "INFO:root:Command output:                JOBID   PARTITION         QOS                  NAME          USER    ST         TIME  NODES  NODELIST(REASON)\n",
      "             2522380     general     regular    244391_hf_gaussian       javidom    PD         0:00      1  (Priority)\n",
      "\n",
      "INFO:root:Job 2522380 for 244391_hf_gaussian still running, checking again in 4 seconds\n",
      "INFO:root:Command output:                JOBID   PARTITION         QOS                  NAME          USER    ST         TIME  NODES  NODELIST(REASON)\n",
      "             2522380     general     regular    244391_hf_gaussian       javidom    PD         0:00      1  (Priority)\n",
      "\n",
      "INFO:root:Job 2522380 for 244391_hf_gaussian still running, checking again in 8 seconds\n",
      "INFO:root:Command output:                JOBID   PARTITION         QOS                  NAME          USER    ST         TIME  NODES  NODELIST(REASON)\n",
      "             2522380     general     regular    244391_hf_gaussian       javidom    PD         0:00      1  (Priority)\n",
      "\n",
      "INFO:root:Job 2522380 for 244391_hf_gaussian still running, checking again in 16 seconds\n",
      "INFO:root:Command output:                JOBID   PARTITION         QOS                  NAME          USER    ST         TIME  NODES  NODELIST(REASON)\n",
      "\n",
      "INFO:root:Job 2522380 for 244391_hf_gaussian completed after 0:00:36.296220\n",
      "INFO:root:Job 2522380 completed successfully\n",
      "INFO:root:Job 2522380 completed successfully for 244391_hf\n",
      "INFO:root:Command output: \n"
     ]
    },
    {
     "name": "stdout",
     "output_type": "stream",
     "text": [
      "Gaussian input file './test/244391_hfl.com' generated successfully.\n"
     ]
    },
    {
     "name": "stderr",
     "output_type": "stream",
     "text": [
      "INFO:root:Generated Gaussian SLURM script at test/244391_hfl_gaussian.slurm\n"
     ]
    },
    {
     "name": "stdout",
     "output_type": "stream",
     "text": [
      "Uploaded test/244391_hfl.com to /dipc/javidom/proyect-3-indicator/244391/244391_hfl.com on the cluster.\n"
     ]
    },
    {
     "name": "stderr",
     "output_type": "stream",
     "text": [
      "INFO:root:Input files prepared for 244391_hfl\n"
     ]
    },
    {
     "name": "stdout",
     "output_type": "stream",
     "text": [
      "Uploaded test/244391_hfl_gaussian.slurm to /dipc/javidom/proyect-3-indicator/244391/244391_hfl_gaussian.slurm on the cluster.\n"
     ]
    },
    {
     "name": "stderr",
     "output_type": "stream",
     "text": [
      "INFO:root:Command output: \n",
      "INFO:root:Command output: /scratch/javidom/proyect-3-indicator/244391/244391_hfl.com\n",
      "\n",
      "INFO:root:Moved 244391_hfl.com from colony to scratch for 244391\n",
      "INFO:root:Command output: \n",
      "INFO:root:Command output: /scratch/javidom/proyect-3-indicator/244391/244391_hfl_gaussian.slurm\n",
      "\n",
      "INFO:root:Moved 244391_hfl_gaussian.slurm from colony to scratch for 244391\n",
      "INFO:root:Command output: Submitted batch job 2522381\n",
      "\n",
      "INFO:root:Submitted job with ID 2522381 for 244391_hfl_gaussian\n",
      "INFO:root:Submitted job 2522381 for 244391_hfl_gaussian\n",
      "INFO:root:Monitoring job 2522381 for 244391_hfl_gaussian...\n",
      "INFO:root:Command output:                JOBID   PARTITION         QOS                  NAME          USER    ST         TIME  NODES  NODELIST(REASON)\n",
      "             2522381     general     regular   244391_hfl_gaussian       javidom    PD         0:00      1  (Priority)\n",
      "\n",
      "INFO:root:Job 2522381 for 244391_hfl_gaussian still running, checking again in 1 seconds\n",
      "INFO:root:Command output:                JOBID   PARTITION         QOS                  NAME          USER    ST         TIME  NODES  NODELIST(REASON)\n",
      "             2522381     general     regular   244391_hfl_gaussian       javidom    PD         0:00      1  (Priority)\n",
      "\n",
      "INFO:root:Job 2522381 for 244391_hfl_gaussian still running, checking again in 2 seconds\n",
      "INFO:root:Command output:                JOBID   PARTITION         QOS                  NAME          USER    ST         TIME  NODES  NODELIST(REASON)\n",
      "             2522381     general     regular   244391_hfl_gaussian       javidom    PD         0:00      1  (Priority)\n",
      "\n",
      "INFO:root:Job 2522381 for 244391_hfl_gaussian still running, checking again in 4 seconds\n",
      "INFO:root:Command output:                JOBID   PARTITION         QOS                  NAME          USER    ST         TIME  NODES  NODELIST(REASON)\n",
      "             2522381     general     regular   244391_hfl_gaussian       javidom    PD         0:00      1  (Priority)\n",
      "\n",
      "INFO:root:Job 2522381 for 244391_hfl_gaussian still running, checking again in 8 seconds\n",
      "INFO:root:Command output:                JOBID   PARTITION         QOS                  NAME          USER    ST         TIME  NODES  NODELIST(REASON)\n",
      "             2522381     general     regular   244391_hfl_gaussian       javidom    PD         0:00      1  (Priority)\n",
      "\n",
      "INFO:root:Job 2522381 for 244391_hfl_gaussian still running, checking again in 16 seconds\n",
      "INFO:root:Command output:                JOBID   PARTITION         QOS                  NAME          USER    ST         TIME  NODES  NODELIST(REASON)\n",
      "             2522381     general     regular   244391_hfl_gaussian       javidom     R         0:06      1  atlas-316\n",
      "\n",
      "INFO:root:Job 2522381 for 244391_hfl_gaussian still running, checking again in 20 seconds\n",
      "INFO:root:Command output:                JOBID   PARTITION         QOS                  NAME          USER    ST         TIME  NODES  NODELIST(REASON)\n",
      "\n",
      "INFO:root:Job 2522381 for 244391_hfl_gaussian completed after 0:00:56.606828\n",
      "INFO:root:Job 2522381 completed successfully\n",
      "INFO:root:Job 2522381 completed successfully for 244391_hfl\n",
      "INFO:root:Command output: \n",
      "INFO:root:Command output: drwx------ 1 javidom qchem 22 Apr  9 16:15 /dipc/javidom/proyect-3-indicator/244391\n",
      "\n",
      "INFO:root:Command output: \n",
      "INFO:root:Created directory: /scratch/javidom/proyect-3-indicator/244391\n",
      "INFO:root:Created fresh scratch directory: /scratch/javidom/proyect-3-indicator/244391\n",
      "INFO:root:Command output: /dipc/javidom/proyect-3-indicator/244391/244391.log\n",
      "\n",
      "INFO:root:Command output: \n"
     ]
    },
    {
     "name": "stdout",
     "output_type": "stream",
     "text": [
      "here\n"
     ]
    },
    {
     "name": "stderr",
     "output_type": "stream",
     "text": [
      "INFO:root:Command output: \n",
      "INFO:root:Command output: /dipc/javidom/proyect-3-indicator/244391/244391.log\n",
      "\n",
      "INFO:root:Generated DMN SLURM script at test/244391_dmn.slurm\n"
     ]
    },
    {
     "name": "stdout",
     "output_type": "stream",
     "text": [
      "Uploaded test/244391_dmn.slurm to /dipc/javidom/proyect-3-indicator/244391/244391_dmn.slurm on the cluster.\n"
     ]
    },
    {
     "name": "stderr",
     "output_type": "stream",
     "text": [
      "INFO:root:Command output: \n",
      "INFO:root:Command output: /scratch/javidom/proyect-3-indicator/244391/244391_dmn.slurm\n",
      "\n",
      "INFO:root:Moved 244391_dmn.slurm from colony to scratch for 244391\n",
      "INFO:root:Command output: \n",
      "INFO:root:Command output: /scratch/javidom/proyect-3-indicator/244391/244391.log\n",
      "\n",
      "INFO:root:Moved 244391.log from colony to scratch for 244391\n",
      "INFO:root:Command output: Submitted batch job 2522383\n",
      "\n",
      "INFO:root:Submitted job with ID 2522383 for 244391_dmn\n",
      "INFO:root:Submitted job 2522383 for 244391_dmn\n",
      "INFO:root:Monitoring job 2522383 for 244391_dmn...\n",
      "INFO:root:Command output:                JOBID   PARTITION         QOS                  NAME          USER    ST         TIME  NODES  NODELIST(REASON)\n",
      "             2522383     general     regular            244391_dmn       javidom    PD         0:00      1  (Priority)\n",
      "\n",
      "INFO:root:Job 2522383 for 244391_dmn still running, checking again in 1 seconds\n",
      "INFO:root:Command output:                JOBID   PARTITION         QOS                  NAME          USER    ST         TIME  NODES  NODELIST(REASON)\n",
      "             2522383     general     regular            244391_dmn       javidom    PD         0:00      1  (Priority)\n",
      "\n",
      "INFO:root:Job 2522383 for 244391_dmn still running, checking again in 2 seconds\n",
      "INFO:root:Command output:                JOBID   PARTITION         QOS                  NAME          USER    ST         TIME  NODES  NODELIST(REASON)\n",
      "             2522383     general     regular            244391_dmn       javidom    PD         0:00      1  (Priority)\n",
      "\n",
      "INFO:root:Job 2522383 for 244391_dmn still running, checking again in 4 seconds\n",
      "INFO:root:Command output:                JOBID   PARTITION         QOS                  NAME          USER    ST         TIME  NODES  NODELIST(REASON)\n",
      "             2522383     general     regular            244391_dmn       javidom    PD         0:00      1  (Priority)\n",
      "\n",
      "INFO:root:Job 2522383 for 244391_dmn still running, checking again in 8 seconds\n",
      "INFO:root:Command output:                JOBID   PARTITION         QOS                  NAME          USER    ST         TIME  NODES  NODELIST(REASON)\n",
      "\n",
      "INFO:root:Job 2522383 for 244391_dmn completed after 0:00:18.972539\n",
      "INFO:root:Job 2522383 completed successfully\n",
      "INFO:root:Job 2522383 completed successfully for 244391\n",
      "INFO:root:Command output: \n",
      "INFO:root:Command output: drwx------ 1 javidom qchem 30 Apr  9 16:16 /dipc/javidom/proyect-3-indicator/244391\n",
      "\n",
      "INFO:root:Command output: \n",
      "INFO:root:Created directory: /scratch/javidom/proyect-3-indicator/244391\n",
      "INFO:root:Created fresh scratch directory: /scratch/javidom/proyect-3-indicator/244391\n",
      "INFO:root:Command output: /dipc/javidom/proyect-3-indicator/244391/Test.FChk\n",
      "\n",
      "INFO:root:Command output: /dipc/javidom/proyect-3-indicator/244391/244391_sd.dm2\n",
      "\n",
      "INFO:root:Command output: \n",
      "INFO:root:Renamed /dipc/javidom/proyect-3-indicator/244391/244391_sd.dm2 to /dipc/javidom/proyect-3-indicator/244391/244391_hfl.dm2\n",
      "INFO:root:Command output: \n",
      "INFO:root:Renamed Test.FChk to 244391.fchk\n",
      "INFO:root:Command output: /dipc/javidom/proyect-3-indicator/244391/244391.dm2\n",
      "\n",
      "INFO:root:Command output: /dipc/javidom/proyect-3-indicator/244391/244391.fchk\n",
      "\n",
      "INFO:root:Generated DM2PRIM SLURM script at test/244391_dm2prim.slurm\n"
     ]
    },
    {
     "name": "stdout",
     "output_type": "stream",
     "text": [
      "Uploaded test/244391_dm2prim.slurm to /dipc/javidom/proyect-3-indicator/244391/244391_dm2prim.slurm on the cluster.\n"
     ]
    },
    {
     "name": "stderr",
     "output_type": "stream",
     "text": [
      "INFO:root:Command output: \n",
      "INFO:root:Command output: /scratch/javidom/proyect-3-indicator/244391/244391_dm2prim.slurm\n",
      "\n",
      "INFO:root:Moved 244391_dm2prim.slurm from colony to scratch for 244391\n",
      "INFO:root:Command output: \n",
      "INFO:root:Command output: /scratch/javidom/proyect-3-indicator/244391/244391.dm2\n",
      "\n",
      "INFO:root:Moved 244391.dm2 from colony to scratch for 244391\n",
      "INFO:root:Command output: \n",
      "INFO:root:Command output: /scratch/javidom/proyect-3-indicator/244391/244391.fchk\n",
      "\n",
      "INFO:root:Moved 244391.fchk from colony to scratch for 244391\n",
      "INFO:root:Command output: Submitted batch job 2522386\n",
      "\n",
      "INFO:root:Submitted job with ID 2522386 for 244391_dm2prim\n",
      "INFO:root:Submitted job 2522386 for 244391_dm2prim\n",
      "INFO:root:Monitoring job 2522386 for 244391_dm2prim...\n",
      "INFO:root:Command output:                JOBID   PARTITION         QOS                  NAME          USER    ST         TIME  NODES  NODELIST(REASON)\n",
      "             2522386     general     regular        244391_dm2prim       javidom    PD         0:00      1  (Priority)\n",
      "\n",
      "INFO:root:Job 2522386 for 244391_dm2prim still running, checking again in 1 seconds\n",
      "INFO:root:Command output:                JOBID   PARTITION         QOS                  NAME          USER    ST         TIME  NODES  NODELIST(REASON)\n",
      "             2522386     general     regular        244391_dm2prim       javidom    PD         0:00      1  (Priority)\n",
      "\n",
      "INFO:root:Job 2522386 for 244391_dm2prim still running, checking again in 2 seconds\n",
      "INFO:root:Command output:                JOBID   PARTITION         QOS                  NAME          USER    ST         TIME  NODES  NODELIST(REASON)\n",
      "             2522386     general     regular        244391_dm2prim       javidom    PD         0:00      1  (Priority)\n",
      "\n",
      "INFO:root:Job 2522386 for 244391_dm2prim still running, checking again in 4 seconds\n",
      "INFO:root:Command output:                JOBID   PARTITION         QOS                  NAME          USER    ST         TIME  NODES  NODELIST(REASON)\n",
      "             2522386     general     regular        244391_dm2prim       javidom    PD         0:00      1  (Priority)\n",
      "\n",
      "INFO:root:Job 2522386 for 244391_dm2prim still running, checking again in 8 seconds\n",
      "INFO:root:Command output:                JOBID   PARTITION         QOS                  NAME          USER    ST         TIME  NODES  NODELIST(REASON)\n",
      "             2522386     general     regular        244391_dm2prim       javidom    PD         0:00      1  (Priority)\n",
      "\n",
      "INFO:root:Job 2522386 for 244391_dm2prim still running, checking again in 16 seconds\n",
      "INFO:root:Command output:                JOBID   PARTITION         QOS                  NAME          USER    ST         TIME  NODES  NODELIST(REASON)\n",
      "             2522386     general     regular        244391_dm2prim       javidom     R         0:01      1  atlas-264\n",
      "\n",
      "INFO:root:Job 2522386 for 244391_dm2prim still running, checking again in 20 seconds\n",
      "INFO:root:Command output:                JOBID   PARTITION         QOS                  NAME          USER    ST         TIME  NODES  NODELIST(REASON)\n",
      "\n",
      "INFO:root:Job 2522386 for 244391_dm2prim completed after 0:00:54.917716\n",
      "INFO:root:Job 2522386 completed successfully\n",
      "INFO:root:Job 2522386 completed successfully for 244391\n",
      "INFO:root:Command output: \n",
      "INFO:root:Command output: /dipc/javidom/proyect-3-indicator/244391/Test.FChk\n",
      "\n",
      "ERROR:root:Error executing command: ls: cannot access /dipc/javidom/proyect-3-indicator/244391/244391_hf_sd.dm2: No such file or directory\n",
      "\n",
      "WARNING:root:/dipc/javidom/proyect-3-indicator/244391/244391_hf_sd.dm2 not found, skipping rename\n",
      "INFO:root:Command output: \n",
      "INFO:root:Renamed Test.FChk to 244391_hf.fchk\n",
      "INFO:root:Command output: /dipc/javidom/proyect-3-indicator/244391/244391_hf.dm2\n",
      "\n",
      "INFO:root:Command output: /dipc/javidom/proyect-3-indicator/244391/244391_hf.fchk\n",
      "\n",
      "INFO:root:Generated DM2PRIM SLURM script at test/244391_hf_dm2prim.slurm\n"
     ]
    },
    {
     "name": "stdout",
     "output_type": "stream",
     "text": [
      "Uploaded test/244391_hf_dm2prim.slurm to /dipc/javidom/proyect-3-indicator/244391/244391_hf_dm2prim.slurm on the cluster.\n"
     ]
    },
    {
     "name": "stderr",
     "output_type": "stream",
     "text": [
      "INFO:root:Command output: \n",
      "INFO:root:Command output: /scratch/javidom/proyect-3-indicator/244391/244391_hf_dm2prim.slurm\n",
      "\n",
      "INFO:root:Moved 244391_hf_dm2prim.slurm from colony to scratch for 244391\n",
      "INFO:root:Command output: \n",
      "INFO:root:Command output: /scratch/javidom/proyect-3-indicator/244391/244391_hf.dm2\n",
      "\n",
      "INFO:root:Moved 244391_hf.dm2 from colony to scratch for 244391\n",
      "INFO:root:Command output: \n",
      "INFO:root:Command output: /scratch/javidom/proyect-3-indicator/244391/244391_hf.fchk\n",
      "\n",
      "INFO:root:Moved 244391_hf.fchk from colony to scratch for 244391\n",
      "INFO:root:Command output: Submitted batch job 2522388\n",
      "\n",
      "INFO:root:Submitted job with ID 2522388 for 244391_hf_dm2prim\n",
      "INFO:root:Submitted job 2522388 for 244391_hf_dm2prim\n",
      "INFO:root:Monitoring job 2522388 for 244391_hf_dm2prim...\n",
      "INFO:root:Command output:                JOBID   PARTITION         QOS                  NAME          USER    ST         TIME  NODES  NODELIST(REASON)\n",
      "             2522388     general     regular     244391_hf_dm2prim       javidom    PD         0:00      1  (Priority)\n",
      "\n",
      "INFO:root:Job 2522388 for 244391_hf_dm2prim still running, checking again in 1 seconds\n",
      "INFO:root:Command output:                JOBID   PARTITION         QOS                  NAME          USER    ST         TIME  NODES  NODELIST(REASON)\n",
      "             2522388     general     regular     244391_hf_dm2prim       javidom    PD         0:00      1  (Priority)\n",
      "\n",
      "INFO:root:Job 2522388 for 244391_hf_dm2prim still running, checking again in 2 seconds\n",
      "INFO:root:Command output:                JOBID   PARTITION         QOS                  NAME          USER    ST         TIME  NODES  NODELIST(REASON)\n",
      "             2522388     general     regular     244391_hf_dm2prim       javidom    PD         0:00      1  (Priority)\n",
      "\n",
      "INFO:root:Job 2522388 for 244391_hf_dm2prim still running, checking again in 4 seconds\n",
      "INFO:root:Command output:                JOBID   PARTITION         QOS                  NAME          USER    ST         TIME  NODES  NODELIST(REASON)\n",
      "             2522388     general     regular     244391_hf_dm2prim       javidom    PD         0:00      1  (Priority)\n",
      "\n",
      "INFO:root:Job 2522388 for 244391_hf_dm2prim still running, checking again in 8 seconds\n",
      "INFO:root:Command output:                JOBID   PARTITION         QOS                  NAME          USER    ST         TIME  NODES  NODELIST(REASON)\n",
      "             2522388     general     regular     244391_hf_dm2prim       javidom    PD         0:00      1  (Priority)\n",
      "\n",
      "INFO:root:Job 2522388 for 244391_hf_dm2prim still running, checking again in 16 seconds\n",
      "INFO:root:Command output:                JOBID   PARTITION         QOS                  NAME          USER    ST         TIME  NODES  NODELIST(REASON)\n",
      "             2522388     general     regular     244391_hf_dm2prim       javidom    CG         0:04      1  atlas-264\n",
      "\n",
      "INFO:root:Job 2522388 for 244391_hf_dm2prim still running, checking again in 20 seconds\n",
      "INFO:root:Command output:                JOBID   PARTITION         QOS                  NAME          USER    ST         TIME  NODES  NODELIST(REASON)\n",
      "\n",
      "INFO:root:Job 2522388 for 244391_hf_dm2prim completed after 0:00:54.941977\n",
      "INFO:root:Job 2522388 completed successfully\n",
      "INFO:root:Job 2522388 completed successfully for 244391_hf\n",
      "INFO:root:Command output: \n",
      "INFO:root:Command output: /dipc/javidom/proyect-3-indicator/244391/Test.FChk\n",
      "\n",
      "ERROR:root:Error executing command: ls: cannot access /dipc/javidom/proyect-3-indicator/244391/244391_hfl_sd.dm2: No such file or directory\n",
      "\n",
      "WARNING:root:/dipc/javidom/proyect-3-indicator/244391/244391_hfl_sd.dm2 not found, skipping rename\n",
      "INFO:root:Command output: \n",
      "INFO:root:Renamed Test.FChk to 244391_hfl.fchk\n",
      "INFO:root:Command output: /dipc/javidom/proyect-3-indicator/244391/244391_hfl.dm2\n",
      "\n",
      "INFO:root:Command output: /dipc/javidom/proyect-3-indicator/244391/244391_hfl.fchk\n",
      "\n",
      "INFO:root:Generated DM2PRIM SLURM script at test/244391_hfl_dm2prim.slurm\n"
     ]
    },
    {
     "name": "stdout",
     "output_type": "stream",
     "text": [
      "Uploaded test/244391_hfl_dm2prim.slurm to /dipc/javidom/proyect-3-indicator/244391/244391_hfl_dm2prim.slurm on the cluster.\n"
     ]
    },
    {
     "name": "stderr",
     "output_type": "stream",
     "text": [
      "INFO:root:Command output: \n",
      "INFO:root:Command output: /scratch/javidom/proyect-3-indicator/244391/244391_hfl_dm2prim.slurm\n",
      "\n",
      "INFO:root:Moved 244391_hfl_dm2prim.slurm from colony to scratch for 244391\n",
      "INFO:root:Command output: \n",
      "INFO:root:Command output: /scratch/javidom/proyect-3-indicator/244391/244391_hfl.dm2\n",
      "\n",
      "INFO:root:Moved 244391_hfl.dm2 from colony to scratch for 244391\n",
      "INFO:root:Command output: \n",
      "INFO:root:Command output: /scratch/javidom/proyect-3-indicator/244391/244391_hfl.fchk\n",
      "\n",
      "INFO:root:Moved 244391_hfl.fchk from colony to scratch for 244391\n",
      "INFO:root:Command output: Submitted batch job 2522390\n",
      "\n",
      "INFO:root:Submitted job with ID 2522390 for 244391_hfl_dm2prim\n",
      "INFO:root:Submitted job 2522390 for 244391_hfl_dm2prim\n",
      "INFO:root:Monitoring job 2522390 for 244391_hfl_dm2prim...\n",
      "INFO:root:Command output:                JOBID   PARTITION         QOS                  NAME          USER    ST         TIME  NODES  NODELIST(REASON)\n",
      "             2522390     general     regular    244391_hfl_dm2prim       javidom    PD         0:00      1  (Priority)\n",
      "\n",
      "INFO:root:Job 2522390 for 244391_hfl_dm2prim still running, checking again in 1 seconds\n",
      "INFO:root:Command output:                JOBID   PARTITION         QOS                  NAME          USER    ST         TIME  NODES  NODELIST(REASON)\n",
      "             2522390     general     regular    244391_hfl_dm2prim       javidom    PD         0:00      1  (Priority)\n",
      "\n",
      "INFO:root:Job 2522390 for 244391_hfl_dm2prim still running, checking again in 2 seconds\n",
      "INFO:root:Command output:                JOBID   PARTITION         QOS                  NAME          USER    ST         TIME  NODES  NODELIST(REASON)\n",
      "             2522390     general     regular    244391_hfl_dm2prim       javidom    PD         0:00      1  (Priority)\n",
      "\n",
      "INFO:root:Job 2522390 for 244391_hfl_dm2prim still running, checking again in 4 seconds\n",
      "INFO:root:Command output:                JOBID   PARTITION         QOS                  NAME          USER    ST         TIME  NODES  NODELIST(REASON)\n",
      "             2522390     general     regular    244391_hfl_dm2prim       javidom    PD         0:00      1  (Priority)\n",
      "\n",
      "INFO:root:Job 2522390 for 244391_hfl_dm2prim still running, checking again in 8 seconds\n",
      "INFO:root:Command output:                JOBID   PARTITION         QOS                  NAME          USER    ST         TIME  NODES  NODELIST(REASON)\n",
      "             2522390     general     regular    244391_hfl_dm2prim       javidom    PD         0:00      1  (Priority)\n",
      "\n",
      "INFO:root:Job 2522390 for 244391_hfl_dm2prim still running, checking again in 16 seconds\n",
      "INFO:root:Command output:                JOBID   PARTITION         QOS                  NAME          USER    ST         TIME  NODES  NODELIST(REASON)\n",
      "             2522390     general     regular    244391_hfl_dm2prim       javidom    PD         0:00      1  (Priority)\n",
      "\n",
      "INFO:root:Job 2522390 for 244391_hfl_dm2prim still running, checking again in 20 seconds\n",
      "INFO:root:Command output:                JOBID   PARTITION         QOS                  NAME          USER    ST         TIME  NODES  NODELIST(REASON)\n",
      "\n",
      "INFO:root:Job 2522390 for 244391_hfl_dm2prim completed after 0:00:59.443944\n",
      "INFO:root:Job 2522390 completed successfully\n",
      "INFO:root:Job 2522390 completed successfully for 244391_hfl\n",
      "INFO:root:Command output: \n",
      "INFO:root:Command output: drwx------ 1 javidom qchem 58 Apr  9 16:19 /dipc/javidom/proyect-3-indicator/244391\n",
      "\n",
      "INFO:root:Command output: \n",
      "INFO:root:Created directory: /scratch/javidom/proyect-3-indicator/244391\n",
      "INFO:root:Created fresh scratch directory: /scratch/javidom/proyect-3-indicator/244391\n"
     ]
    },
    {
     "name": "stdout",
     "output_type": "stream",
     "text": [
      "INCA input file './test/244391.inp' generated successfully.\n"
     ]
    },
    {
     "name": "stderr",
     "output_type": "stream",
     "text": [
      "INFO:root:Generated INCA SLURM script at test/244391_inca.slurm\n"
     ]
    },
    {
     "name": "stdout",
     "output_type": "stream",
     "text": [
      "Uploaded test/244391.inp to /dipc/javidom/proyect-3-indicator/244391/244391.inp on the cluster.\n",
      "Uploaded test/244391_inca.slurm to /dipc/javidom/proyect-3-indicator/244391/244391_inca.slurm on the cluster.\n"
     ]
    },
    {
     "name": "stderr",
     "output_type": "stream",
     "text": [
      "INFO:root:Command output: /dipc/javidom/proyect-3-indicator/244391/244391.wfx\n",
      "\n",
      "INFO:root:Command output: /dipc/javidom/proyect-3-indicator/244391/244391.dm2p\n",
      "\n",
      "INFO:root:Input files prepared for INCA calculation of 244391\n",
      "INFO:root:Command output: /dipc/javidom/proyect-3-indicator/244391/244391.dm2p\n",
      "\n",
      "INFO:root:Command output: \n",
      "INFO:root:Command output: /scratch/javidom/proyect-3-indicator/244391/244391_inca.slurm\n",
      "\n",
      "INFO:root:Moved 244391_inca.slurm from colony to scratch for 244391\n",
      "INFO:root:Command output: \n",
      "INFO:root:Command output: /scratch/javidom/proyect-3-indicator/244391/244391.inp\n",
      "\n",
      "INFO:root:Moved 244391.inp from colony to scratch for 244391\n",
      "INFO:root:Command output: \n",
      "INFO:root:Command output: /scratch/javidom/proyect-3-indicator/244391/244391.wfx\n",
      "\n",
      "INFO:root:Moved 244391.wfx from colony to scratch for 244391\n",
      "INFO:root:Command output: \n",
      "INFO:root:Command output: /scratch/javidom/proyect-3-indicator/244391/244391_hf.dm2\n",
      "\n",
      "INFO:root:Moved 244391_hf.dm2 from colony to scratch for 244391\n",
      "INFO:root:Command output: \n",
      "INFO:root:Command output: /scratch/javidom/proyect-3-indicator/244391/244391_hfl.dm2\n",
      "\n",
      "INFO:root:Moved 244391_hfl.dm2 from colony to scratch for 244391\n",
      "INFO:root:Command output: \n",
      "INFO:root:Command output: /scratch/javidom/proyect-3-indicator/244391/244391.dm2p\n",
      "\n",
      "INFO:root:Moved 244391.dm2p from colony to scratch for 244391\n",
      "INFO:root:Command output: Submitted batch job 2522392\n",
      "\n",
      "INFO:root:Submitted job with ID 2522392 for 244391_inca\n",
      "INFO:root:Submitted job 2522392 for 244391_inca\n",
      "INFO:root:Monitoring job 2522392 for 244391_inca...\n",
      "INFO:root:Command output:                JOBID   PARTITION         QOS                  NAME          USER    ST         TIME  NODES  NODELIST(REASON)\n",
      "             2522392     general     regular           244391_inca       javidom    PD         0:00      1  (Priority)\n",
      "\n",
      "INFO:root:Job 2522392 for 244391_inca still running, checking again in 1 seconds\n",
      "INFO:root:Command output:                JOBID   PARTITION         QOS                  NAME          USER    ST         TIME  NODES  NODELIST(REASON)\n",
      "             2522392     general     regular           244391_inca       javidom    PD         0:00      1  (Priority)\n",
      "\n",
      "INFO:root:Job 2522392 for 244391_inca still running, checking again in 2 seconds\n",
      "INFO:root:Command output:                JOBID   PARTITION         QOS                  NAME          USER    ST         TIME  NODES  NODELIST(REASON)\n",
      "             2522392     general     regular           244391_inca       javidom    PD         0:00      1  (Priority)\n",
      "\n",
      "INFO:root:Job 2522392 for 244391_inca still running, checking again in 4 seconds\n",
      "INFO:root:Command output:                JOBID   PARTITION         QOS                  NAME          USER    ST         TIME  NODES  NODELIST(REASON)\n",
      "             2522392     general     regular           244391_inca       javidom    PD         0:00      1  (Priority)\n",
      "\n",
      "INFO:root:Job 2522392 for 244391_inca still running, checking again in 8 seconds\n",
      "INFO:root:Command output:                JOBID   PARTITION         QOS                  NAME          USER    ST         TIME  NODES  NODELIST(REASON)\n",
      "             2522392     general     regular           244391_inca       javidom    PD         0:00      1  (Priority)\n",
      "\n",
      "INFO:root:Job 2522392 for 244391_inca still running, checking again in 16 seconds\n",
      "INFO:root:Command output:                JOBID   PARTITION         QOS                  NAME          USER    ST         TIME  NODES  NODELIST(REASON)\n",
      "\n",
      "INFO:root:Job 2522392 for 244391_inca completed after 0:00:36.120566\n",
      "INFO:root:Job 2522392 completed successfully\n",
      "INFO:root:Job 2522392 completed successfully for 244391\n",
      "INFO:root:Command output: \n",
      "INFO:root:Correlation flux completed for 244391\n",
      "INFO:root:Command output: /dipc/javidom/proyect-3-indicator/244391/244391.log\n",
      "\n",
      "INFO:project_3_indicator.handler.calculation:Downloading /dipc/javidom/proyect-3-indicator/244391/244391.log to /home/javi/Desktop/Doctorado/proyect-3-indicator/results/244391/244391.log\n"
     ]
    },
    {
     "name": "stdout",
     "output_type": "stream",
     "text": [
      "Downloaded /dipc/javidom/proyect-3-indicator/244391/244391.log to /home/javi/Desktop/Doctorado/proyect-3-indicator/results/244391/244391.log locally.\n"
     ]
    },
    {
     "name": "stderr",
     "output_type": "stream",
     "text": [
      "INFO:root:Command output: /dipc/javidom/proyect-3-indicator/244391/density.cube\n",
      "\n",
      "INFO:project_3_indicator.handler.calculation:Downloading /dipc/javidom/proyect-3-indicator/244391/density.cube to /home/javi/Desktop/Doctorado/proyect-3-indicator/results/244391/density.cube\n"
     ]
    },
    {
     "name": "stdout",
     "output_type": "stream",
     "text": [
      "Downloaded /dipc/javidom/proyect-3-indicator/244391/density.cube to /home/javi/Desktop/Doctorado/proyect-3-indicator/results/244391/density.cube locally.\n"
     ]
    },
    {
     "name": "stderr",
     "output_type": "stream",
     "text": [
      "INFO:root:Command output: /dipc/javidom/proyect-3-indicator/244391/on_top.cube\n",
      "\n",
      "INFO:project_3_indicator.handler.calculation:Downloading /dipc/javidom/proyect-3-indicator/244391/on_top.cube to /home/javi/Desktop/Doctorado/proyect-3-indicator/results/244391/on_top.cube\n"
     ]
    },
    {
     "name": "stdout",
     "output_type": "stream",
     "text": [
      "Downloaded /dipc/javidom/proyect-3-indicator/244391/on_top.cube to /home/javi/Desktop/Doctorado/proyect-3-indicator/results/244391/on_top.cube locally.\n"
     ]
    },
    {
     "name": "stderr",
     "output_type": "stream",
     "text": [
      "INFO:root:Command output: /dipc/javidom/proyect-3-indicator/244391/pair_density_nucleus.cube\n",
      "\n",
      "INFO:project_3_indicator.handler.calculation:Downloading /dipc/javidom/proyect-3-indicator/244391/pair_density_nucleus.cube to /home/javi/Desktop/Doctorado/proyect-3-indicator/results/244391/pair_density_nucleus.cube\n",
      "INFO:project_3_indicator.handler.calculation:Successfully processed 3 cube files for calculation 244391: ['density', 'on_top', 'pair_density_nucleus']\n",
      "INFO:project_3_indicator.handler.calculation:Calculation 244391 completed successfully in 437.5s\n",
      "INFO:project_3_indicator.handler.calculation:Created combined DataFrame with 61 grid points for calculation 244391\n",
      "INFO:project_3_indicator.handler.calculation:Completed calculation workflow for 244391 in 437.7s\n"
     ]
    },
    {
     "name": "stdout",
     "output_type": "stream",
     "text": [
      "Downloaded /dipc/javidom/proyect-3-indicator/244391/pair_density_nucleus.cube to /home/javi/Desktop/Doctorado/proyect-3-indicator/results/244391/pair_density_nucleus.cube locally.\n",
      "      x    y     z     value\n",
      "0   0.0  0.0  0.00  3.052468\n",
      "1   0.0  0.0  0.05  2.867900\n",
      "2   0.0  0.0  0.10  2.443700\n",
      "3   0.0  0.0  0.15  1.999259\n",
      "4   0.0  0.0  0.20  1.636569\n",
      "..  ...  ...   ...       ...\n",
      "56  0.0  0.0  2.80  0.000450\n",
      "57  0.0  0.0  2.85  0.000386\n",
      "58  0.0  0.0  2.90  0.000331\n",
      "59  0.0  0.0  2.95  0.000282\n",
      "60  0.0  0.0  3.00  0.000241\n",
      "\n",
      "[61 rows x 4 columns]\n",
      "      x    y     z         value\n",
      "0   0.0  0.0  0.00  4.652151e+00\n",
      "1   0.0  0.0  0.05  4.106632e+00\n",
      "2   0.0  0.0  0.10  2.981751e+00\n",
      "3   0.0  0.0  0.15  1.995912e+00\n",
      "4   0.0  0.0  0.20  1.337555e+00\n",
      "..  ...  ...   ...           ...\n",
      "56  0.0  0.0  2.80  1.016173e-07\n",
      "57  0.0  0.0  2.85  7.482653e-08\n",
      "58  0.0  0.0  2.90  5.485722e-08\n",
      "59  0.0  0.0  2.95  4.003445e-08\n",
      "60  0.0  0.0  3.00  2.908021e-08\n",
      "\n",
      "[61 rows x 4 columns]\n",
      "      x    y     z     value\n",
      "0   0.0  0.0  0.00  4.652151\n",
      "1   0.0  0.0  0.05  4.370858\n",
      "2   0.0  0.0  0.10  3.724353\n",
      "3   0.0  0.0  0.15  3.046997\n",
      "4   0.0  0.0  0.20  2.494234\n",
      "..  ...  ...   ...       ...\n",
      "56  0.0  0.0  2.80  0.000686\n",
      "57  0.0  0.0  2.85  0.000589\n",
      "58  0.0  0.0  2.90  0.000504\n",
      "59  0.0  0.0  2.95  0.000430\n",
      "60  0.0  0.0  3.00  0.000367\n",
      "\n",
      "[61 rows x 4 columns]\n",
      "{'density':       x    y     z     value\n",
      "0   0.0  0.0  0.00  3.052468\n",
      "1   0.0  0.0  0.05  2.867900\n",
      "2   0.0  0.0  0.10  2.443700\n",
      "3   0.0  0.0  0.15  1.999259\n",
      "4   0.0  0.0  0.20  1.636569\n",
      "..  ...  ...   ...       ...\n",
      "56  0.0  0.0  2.80  0.000450\n",
      "57  0.0  0.0  2.85  0.000386\n",
      "58  0.0  0.0  2.90  0.000331\n",
      "59  0.0  0.0  2.95  0.000282\n",
      "60  0.0  0.0  3.00  0.000241\n",
      "\n",
      "[61 rows x 4 columns], 'on_top':       x    y     z         value\n",
      "0   0.0  0.0  0.00  4.652151e+00\n",
      "1   0.0  0.0  0.05  4.106632e+00\n",
      "2   0.0  0.0  0.10  2.981751e+00\n",
      "3   0.0  0.0  0.15  1.995912e+00\n",
      "4   0.0  0.0  0.20  1.337555e+00\n",
      "..  ...  ...   ...           ...\n",
      "56  0.0  0.0  2.80  1.016173e-07\n",
      "57  0.0  0.0  2.85  7.482653e-08\n",
      "58  0.0  0.0  2.90  5.485722e-08\n",
      "59  0.0  0.0  2.95  4.003445e-08\n",
      "60  0.0  0.0  3.00  2.908021e-08\n",
      "\n",
      "[61 rows x 4 columns], 'pair_density_nucleus':       x    y     z     value\n",
      "0   0.0  0.0  0.00  4.652151\n",
      "1   0.0  0.0  0.05  4.370858\n",
      "2   0.0  0.0  0.10  3.724353\n",
      "3   0.0  0.0  0.15  3.046997\n",
      "4   0.0  0.0  0.20  2.494234\n",
      "..  ...  ...   ...       ...\n",
      "56  0.0  0.0  2.80  0.000686\n",
      "57  0.0  0.0  2.85  0.000589\n",
      "58  0.0  0.0  2.90  0.000504\n",
      "59  0.0  0.0  2.95  0.000430\n",
      "60  0.0  0.0  3.00  0.000367\n",
      "\n",
      "[61 rows x 4 columns]}\n",
      "Disconnected from cluster.\n"
     ]
    },
    {
     "name": "stderr",
     "output_type": "stream",
     "text": [
      "INFO:paramiko.transport:Connected (version 2.0, client OpenSSH_7.4)\n",
      "INFO:paramiko.transport:Authentication (publickey) successful!\n",
      "INFO:project_3_indicator.input.specification:Creating input specification for lithium_atom with CASSCF(2,2)/5SPD\n",
      "INFO:project_3_indicator.input.specification:Using default basis set '5SPD'.\n",
      "INFO:project_3_indicator.handler.calculation:Processing calculation for lithium_atom with CASSCF(2,2)/5SPD\n",
      "INFO:project_3_indicator.handler.calculation:Created new calculation with ID: 504885\n",
      "INFO:root:Pair density nucleus property detected for 504885. Needs more calculations\n"
     ]
    },
    {
     "name": "stdout",
     "output_type": "stream",
     "text": [
      "Connected to atlas.\n",
      "Geometry for lithium_atom successfully loaded.\n",
      "Method name: CASSCF(2,2) False\n",
      "Configuration: SP\n",
      "Method: CASSCF(2,2)\n",
      "Basis: 5SPD\n",
      "Molecule: lithium_atom\n",
      "Molecule: lithium atom( charge = 1)\n",
      "Number of atoms: 1\n",
      "Geometry data: [['Li', 0.0, 0.0, 0.0]]\n",
      "Grid: atom molecule\n",
      "(0, 0.0)\n",
      "(0, 0)\n",
      "(3, 0.05)\n",
      "Grid: $Grid\n",
      "0.0 0 0.0\n",
      "0.0 0 0\n",
      "0.0 3 0.05\n",
      "\n",
      "otr\n",
      "pair_density_nucleus\n",
      "indicator_dynamic\n",
      "Even-tempered coefficients loaded: alpha=161.2669, beta=0.2610155\n",
      "Even-tempered coefficients loaded: alpha=161.2669, beta=0.2610155\n",
      "['density', 'on_top', 'pair_density_nucleus']\n"
     ]
    },
    {
     "name": "stderr",
     "output_type": "stream",
     "text": [
      "ERROR:root:Error executing command: ls: cannot access /dipc/javidom/proyect-3-indicator/504885: No such file or directory\n",
      "\n",
      "INFO:root:Command output: \n",
      "INFO:root:Created directory: /dipc/javidom/proyect-3-indicator/504885\n",
      "INFO:root:Created new colony directory: /dipc/javidom/proyect-3-indicator/504885\n",
      "INFO:root:Command output: \n",
      "INFO:root:Created directory: /scratch/javidom/proyect-3-indicator/504885\n",
      "INFO:root:Created fresh scratch directory: /scratch/javidom/proyect-3-indicator/504885\n"
     ]
    },
    {
     "name": "stdout",
     "output_type": "stream",
     "text": [
      "Gaussian input file './test/504885.com' generated successfully.\n"
     ]
    },
    {
     "name": "stderr",
     "output_type": "stream",
     "text": [
      "INFO:root:Generated Gaussian SLURM script at test/504885_gaussian.slurm\n"
     ]
    },
    {
     "name": "stdout",
     "output_type": "stream",
     "text": [
      "Uploaded test/504885.com to /dipc/javidom/proyect-3-indicator/504885/504885.com on the cluster.\n"
     ]
    },
    {
     "name": "stderr",
     "output_type": "stream",
     "text": [
      "INFO:root:Input files prepared for 504885\n"
     ]
    },
    {
     "name": "stdout",
     "output_type": "stream",
     "text": [
      "Uploaded test/504885_gaussian.slurm to /dipc/javidom/proyect-3-indicator/504885/504885_gaussian.slurm on the cluster.\n"
     ]
    },
    {
     "name": "stderr",
     "output_type": "stream",
     "text": [
      "INFO:root:Command output: \n",
      "INFO:root:Command output: /scratch/javidom/proyect-3-indicator/504885/504885.com\n",
      "\n",
      "INFO:root:Moved 504885.com from colony to scratch for 504885\n",
      "INFO:root:Command output: \n",
      "INFO:root:Command output: /scratch/javidom/proyect-3-indicator/504885/504885_gaussian.slurm\n",
      "\n",
      "INFO:root:Moved 504885_gaussian.slurm from colony to scratch for 504885\n",
      "INFO:root:Command output: Submitted batch job 2522394\n",
      "\n",
      "INFO:root:Submitted job with ID 2522394 for 504885_gaussian\n",
      "INFO:root:Submitted job 2522394 for 504885_gaussian\n",
      "INFO:root:Monitoring job 2522394 for 504885_gaussian...\n",
      "INFO:root:Command output:                JOBID   PARTITION         QOS                  NAME          USER    ST         TIME  NODES  NODELIST(REASON)\n",
      "             2522394     general     regular       504885_gaussian       javidom    PD         0:00      1  (Priority)\n",
      "\n",
      "INFO:root:Job 2522394 for 504885_gaussian still running, checking again in 1 seconds\n",
      "INFO:root:Command output:                JOBID   PARTITION         QOS                  NAME          USER    ST         TIME  NODES  NODELIST(REASON)\n",
      "             2522394     general     regular       504885_gaussian       javidom    PD         0:00      1  (Priority)\n",
      "\n",
      "INFO:root:Job 2522394 for 504885_gaussian still running, checking again in 2 seconds\n",
      "INFO:root:Command output:                JOBID   PARTITION         QOS                  NAME          USER    ST         TIME  NODES  NODELIST(REASON)\n",
      "             2522394     general     regular       504885_gaussian       javidom    PD         0:00      1  (Priority)\n",
      "\n",
      "INFO:root:Job 2522394 for 504885_gaussian still running, checking again in 4 seconds\n",
      "INFO:root:Command output:                JOBID   PARTITION         QOS                  NAME          USER    ST         TIME  NODES  NODELIST(REASON)\n",
      "             2522394     general     regular       504885_gaussian       javidom    PD         0:00      1  (Priority)\n",
      "\n",
      "INFO:root:Job 2522394 for 504885_gaussian still running, checking again in 8 seconds\n",
      "INFO:root:Command output:                JOBID   PARTITION         QOS                  NAME          USER    ST         TIME  NODES  NODELIST(REASON)\n",
      "             2522394     general     regular       504885_gaussian       javidom    PD         0:00      1  (Priority)\n",
      "\n",
      "INFO:root:Job 2522394 for 504885_gaussian still running, checking again in 16 seconds\n",
      "INFO:root:Command output:                JOBID   PARTITION         QOS                  NAME          USER    ST         TIME  NODES  NODELIST(REASON)\n",
      "             2522394     general     regular       504885_gaussian       javidom    PD         0:00      1  (Priority)\n",
      "\n",
      "INFO:root:Job 2522394 for 504885_gaussian still running, checking again in 20 seconds\n",
      "INFO:root:Command output:                JOBID   PARTITION         QOS                  NAME          USER    ST         TIME  NODES  NODELIST(REASON)\n",
      "             2522394     general     regular       504885_gaussian       javidom    PD         0:00      1  (Priority)\n",
      "\n",
      "INFO:root:Job 2522394 for 504885_gaussian still running, checking again in 20 seconds\n",
      "INFO:root:Command output:                JOBID   PARTITION         QOS                  NAME          USER    ST         TIME  NODES  NODELIST(REASON)\n",
      "\n",
      "INFO:root:Job 2522394 for 504885_gaussian completed after 0:01:19.647857\n",
      "INFO:root:Job 2522394 completed successfully\n",
      "INFO:root:Job 2522394 completed successfully for 504885\n",
      "INFO:root:Command output: \n"
     ]
    },
    {
     "name": "stdout",
     "output_type": "stream",
     "text": [
      "Method name: HF True\n",
      "Gaussian input file './test/504885_hf.com' generated successfully.\n"
     ]
    },
    {
     "name": "stderr",
     "output_type": "stream",
     "text": [
      "INFO:root:Generated Gaussian SLURM script at test/504885_hf_gaussian.slurm\n"
     ]
    },
    {
     "name": "stdout",
     "output_type": "stream",
     "text": [
      "Uploaded test/504885_hf.com to /dipc/javidom/proyect-3-indicator/504885/504885_hf.com on the cluster.\n"
     ]
    },
    {
     "name": "stderr",
     "output_type": "stream",
     "text": [
      "INFO:root:Input files prepared for 504885_hf\n"
     ]
    },
    {
     "name": "stdout",
     "output_type": "stream",
     "text": [
      "Uploaded test/504885_hf_gaussian.slurm to /dipc/javidom/proyect-3-indicator/504885/504885_hf_gaussian.slurm on the cluster.\n"
     ]
    },
    {
     "name": "stderr",
     "output_type": "stream",
     "text": [
      "INFO:root:Command output: \n",
      "INFO:root:Command output: /scratch/javidom/proyect-3-indicator/504885/504885_hf.com\n",
      "\n",
      "INFO:root:Moved 504885_hf.com from colony to scratch for 504885\n",
      "INFO:root:Command output: \n",
      "INFO:root:Command output: /scratch/javidom/proyect-3-indicator/504885/504885_hf_gaussian.slurm\n",
      "\n",
      "INFO:root:Moved 504885_hf_gaussian.slurm from colony to scratch for 504885\n",
      "INFO:root:Command output: Submitted batch job 2522396\n",
      "\n",
      "INFO:root:Submitted job with ID 2522396 for 504885_hf_gaussian\n",
      "INFO:root:Submitted job 2522396 for 504885_hf_gaussian\n",
      "INFO:root:Monitoring job 2522396 for 504885_hf_gaussian...\n",
      "INFO:root:Command output:                JOBID   PARTITION         QOS                  NAME          USER    ST         TIME  NODES  NODELIST(REASON)\n",
      "             2522396     general     regular    504885_hf_gaussian       javidom    PD         0:00      1  (Priority)\n",
      "\n",
      "INFO:root:Job 2522396 for 504885_hf_gaussian still running, checking again in 1 seconds\n",
      "INFO:root:Command output:                JOBID   PARTITION         QOS                  NAME          USER    ST         TIME  NODES  NODELIST(REASON)\n",
      "             2522396     general     regular    504885_hf_gaussian       javidom    PD         0:00      1  (Priority)\n",
      "\n",
      "INFO:root:Job 2522396 for 504885_hf_gaussian still running, checking again in 2 seconds\n",
      "INFO:root:Command output:                JOBID   PARTITION         QOS                  NAME          USER    ST         TIME  NODES  NODELIST(REASON)\n",
      "             2522396     general     regular    504885_hf_gaussian       javidom    PD         0:00      1  (Priority)\n",
      "\n",
      "INFO:root:Job 2522396 for 504885_hf_gaussian still running, checking again in 4 seconds\n",
      "INFO:root:Command output:                JOBID   PARTITION         QOS                  NAME          USER    ST         TIME  NODES  NODELIST(REASON)\n",
      "             2522396     general     regular    504885_hf_gaussian       javidom    PD         0:00      1  (Priority)\n",
      "\n",
      "INFO:root:Job 2522396 for 504885_hf_gaussian still running, checking again in 8 seconds\n",
      "INFO:root:Command output:                JOBID   PARTITION         QOS                  NAME          USER    ST         TIME  NODES  NODELIST(REASON)\n",
      "             2522396     general     regular    504885_hf_gaussian       javidom    PD         0:00      1  (Priority)\n",
      "\n",
      "INFO:root:Job 2522396 for 504885_hf_gaussian still running, checking again in 16 seconds\n",
      "INFO:root:Command output:                JOBID   PARTITION         QOS                  NAME          USER    ST         TIME  NODES  NODELIST(REASON)\n",
      "             2522396     general     regular    504885_hf_gaussian       javidom    PD         0:00      1  (Priority)\n",
      "\n",
      "INFO:root:Job 2522396 for 504885_hf_gaussian still running, checking again in 20 seconds\n",
      "INFO:root:Command output:                JOBID   PARTITION         QOS                  NAME          USER    ST         TIME  NODES  NODELIST(REASON)\n",
      "             2522396     general     regular    504885_hf_gaussian       javidom    PD         0:00      1  (Priority)\n",
      "\n",
      "INFO:root:Job 2522396 for 504885_hf_gaussian still running, checking again in 20 seconds\n",
      "INFO:root:Command output:                JOBID   PARTITION         QOS                  NAME          USER    ST         TIME  NODES  NODELIST(REASON)\n",
      "\n",
      "INFO:root:Job 2522396 for 504885_hf_gaussian completed after 0:01:21.978050\n",
      "INFO:root:Job 2522396 completed successfully\n",
      "INFO:root:Job 2522396 completed successfully for 504885_hf\n",
      "INFO:root:Command output: \n"
     ]
    },
    {
     "name": "stdout",
     "output_type": "stream",
     "text": [
      "Gaussian input file './test/504885_hfl.com' generated successfully.\n"
     ]
    },
    {
     "name": "stderr",
     "output_type": "stream",
     "text": [
      "INFO:root:Generated Gaussian SLURM script at test/504885_hfl_gaussian.slurm\n"
     ]
    },
    {
     "name": "stdout",
     "output_type": "stream",
     "text": [
      "Uploaded test/504885_hfl.com to /dipc/javidom/proyect-3-indicator/504885/504885_hfl.com on the cluster.\n"
     ]
    },
    {
     "name": "stderr",
     "output_type": "stream",
     "text": [
      "INFO:root:Input files prepared for 504885_hfl\n"
     ]
    },
    {
     "name": "stdout",
     "output_type": "stream",
     "text": [
      "Uploaded test/504885_hfl_gaussian.slurm to /dipc/javidom/proyect-3-indicator/504885/504885_hfl_gaussian.slurm on the cluster.\n"
     ]
    },
    {
     "name": "stderr",
     "output_type": "stream",
     "text": [
      "INFO:root:Command output: \n",
      "INFO:root:Command output: /scratch/javidom/proyect-3-indicator/504885/504885_hfl.com\n",
      "\n",
      "INFO:root:Moved 504885_hfl.com from colony to scratch for 504885\n",
      "INFO:root:Command output: \n",
      "INFO:root:Command output: /scratch/javidom/proyect-3-indicator/504885/504885_hfl_gaussian.slurm\n",
      "\n",
      "INFO:root:Moved 504885_hfl_gaussian.slurm from colony to scratch for 504885\n",
      "INFO:root:Command output: Submitted batch job 2522397\n",
      "\n",
      "INFO:root:Submitted job with ID 2522397 for 504885_hfl_gaussian\n",
      "INFO:root:Submitted job 2522397 for 504885_hfl_gaussian\n",
      "INFO:root:Monitoring job 2522397 for 504885_hfl_gaussian...\n",
      "INFO:root:Command output:                JOBID   PARTITION         QOS                  NAME          USER    ST         TIME  NODES  NODELIST(REASON)\n",
      "             2522397     general     regular   504885_hfl_gaussian       javidom    PD         0:00      1  (Priority)\n",
      "\n",
      "INFO:root:Job 2522397 for 504885_hfl_gaussian still running, checking again in 1 seconds\n",
      "INFO:root:Command output:                JOBID   PARTITION         QOS                  NAME          USER    ST         TIME  NODES  NODELIST(REASON)\n",
      "             2522397     general     regular   504885_hfl_gaussian       javidom    PD         0:00      1  (Priority)\n",
      "\n",
      "INFO:root:Job 2522397 for 504885_hfl_gaussian still running, checking again in 2 seconds\n",
      "INFO:root:Command output:                JOBID   PARTITION         QOS                  NAME          USER    ST         TIME  NODES  NODELIST(REASON)\n",
      "             2522397     general     regular   504885_hfl_gaussian       javidom    PD         0:00      1  (Priority)\n",
      "\n",
      "INFO:root:Job 2522397 for 504885_hfl_gaussian still running, checking again in 4 seconds\n",
      "INFO:root:Command output:                JOBID   PARTITION         QOS                  NAME          USER    ST         TIME  NODES  NODELIST(REASON)\n",
      "             2522397     general     regular   504885_hfl_gaussian       javidom    PD         0:00      1  (Priority)\n",
      "\n",
      "INFO:root:Job 2522397 for 504885_hfl_gaussian still running, checking again in 8 seconds\n",
      "INFO:root:Command output:                JOBID   PARTITION         QOS                  NAME          USER    ST         TIME  NODES  NODELIST(REASON)\n",
      "             2522397     general     regular   504885_hfl_gaussian       javidom    PD         0:00      1  (Priority)\n",
      "\n",
      "INFO:root:Job 2522397 for 504885_hfl_gaussian still running, checking again in 16 seconds\n",
      "INFO:root:Command output:                JOBID   PARTITION         QOS                  NAME          USER    ST         TIME  NODES  NODELIST(REASON)\n",
      "             2522397     general     regular   504885_hfl_gaussian       javidom    PD         0:00      1  (Priority)\n",
      "\n",
      "INFO:root:Job 2522397 for 504885_hfl_gaussian still running, checking again in 20 seconds\n",
      "INFO:root:Command output:                JOBID   PARTITION         QOS                  NAME          USER    ST         TIME  NODES  NODELIST(REASON)\n",
      "\n",
      "INFO:root:Job 2522397 for 504885_hfl_gaussian completed after 0:00:58.114070\n",
      "INFO:root:Job 2522397 completed successfully\n",
      "INFO:root:Job 2522397 completed successfully for 504885_hfl\n",
      "INFO:root:Command output: \n",
      "INFO:root:Command output: drwx------ 1 javidom qchem 18 Apr  9 16:24 /dipc/javidom/proyect-3-indicator/504885\n",
      "\n",
      "INFO:root:Command output: \n",
      "INFO:root:Created directory: /scratch/javidom/proyect-3-indicator/504885\n",
      "INFO:root:Created fresh scratch directory: /scratch/javidom/proyect-3-indicator/504885\n",
      "INFO:root:Command output: /dipc/javidom/proyect-3-indicator/504885/504885.log\n",
      "\n",
      "INFO:root:Command output: \n"
     ]
    },
    {
     "name": "stdout",
     "output_type": "stream",
     "text": [
      "here\n"
     ]
    },
    {
     "name": "stderr",
     "output_type": "stream",
     "text": [
      "INFO:root:Command output: \n",
      "INFO:root:Command output: /dipc/javidom/proyect-3-indicator/504885/504885.log\n",
      "\n",
      "INFO:root:Generated DMN SLURM script at test/504885_dmn.slurm\n"
     ]
    },
    {
     "name": "stdout",
     "output_type": "stream",
     "text": [
      "Uploaded test/504885_dmn.slurm to /dipc/javidom/proyect-3-indicator/504885/504885_dmn.slurm on the cluster.\n"
     ]
    },
    {
     "name": "stderr",
     "output_type": "stream",
     "text": [
      "INFO:root:Command output: \n",
      "INFO:root:Command output: /scratch/javidom/proyect-3-indicator/504885/504885_dmn.slurm\n",
      "\n",
      "INFO:root:Moved 504885_dmn.slurm from colony to scratch for 504885\n",
      "INFO:root:Command output: \n",
      "INFO:root:Command output: /scratch/javidom/proyect-3-indicator/504885/504885.log\n",
      "\n",
      "INFO:root:Moved 504885.log from colony to scratch for 504885\n",
      "INFO:root:Command output: Submitted batch job 2522398\n",
      "\n",
      "INFO:root:Submitted job with ID 2522398 for 504885_dmn\n",
      "INFO:root:Submitted job 2522398 for 504885_dmn\n",
      "INFO:root:Monitoring job 2522398 for 504885_dmn...\n",
      "INFO:root:Command output:                JOBID   PARTITION         QOS                  NAME          USER    ST         TIME  NODES  NODELIST(REASON)\n",
      "             2522398     general     regular            504885_dmn       javidom    PD         0:00      1  (Priority)\n",
      "\n",
      "INFO:root:Job 2522398 for 504885_dmn still running, checking again in 1 seconds\n",
      "INFO:root:Command output:                JOBID   PARTITION         QOS                  NAME          USER    ST         TIME  NODES  NODELIST(REASON)\n",
      "             2522398     general     regular            504885_dmn       javidom    PD         0:00      1  (Priority)\n",
      "\n",
      "INFO:root:Job 2522398 for 504885_dmn still running, checking again in 2 seconds\n",
      "INFO:root:Command output:                JOBID   PARTITION         QOS                  NAME          USER    ST         TIME  NODES  NODELIST(REASON)\n",
      "             2522398     general     regular            504885_dmn       javidom    PD         0:00      1  (Priority)\n",
      "\n",
      "INFO:root:Job 2522398 for 504885_dmn still running, checking again in 4 seconds\n",
      "INFO:root:Command output:                JOBID   PARTITION         QOS                  NAME          USER    ST         TIME  NODES  NODELIST(REASON)\n",
      "             2522398     general     regular            504885_dmn       javidom    PD         0:00      1  (Priority)\n",
      "\n",
      "INFO:root:Job 2522398 for 504885_dmn still running, checking again in 8 seconds\n",
      "INFO:root:Command output:                JOBID   PARTITION         QOS                  NAME          USER    ST         TIME  NODES  NODELIST(REASON)\n",
      "             2522398     general     regular            504885_dmn       javidom    PD         0:00      1  (Priority)\n",
      "\n",
      "INFO:root:Job 2522398 for 504885_dmn still running, checking again in 16 seconds\n",
      "INFO:root:Command output:                JOBID   PARTITION         QOS                  NAME          USER    ST         TIME  NODES  NODELIST(REASON)\n",
      "             2522398     general     regular            504885_dmn       javidom     R         0:02      1  atlas-316\n",
      "\n",
      "INFO:root:Job 2522398 for 504885_dmn still running, checking again in 20 seconds\n",
      "INFO:root:Command output:                JOBID   PARTITION         QOS                  NAME          USER    ST         TIME  NODES  NODELIST(REASON)\n",
      "\n",
      "INFO:root:Job 2522398 for 504885_dmn completed after 0:00:56.754779\n",
      "INFO:root:Job 2522398 completed successfully\n",
      "INFO:root:Job 2522398 completed successfully for 504885\n",
      "INFO:root:Command output: \n",
      "INFO:root:Command output: drwx------ 1 javidom qchem 22 Apr  9 16:26 /dipc/javidom/proyect-3-indicator/504885\n",
      "\n",
      "INFO:root:Command output: \n",
      "INFO:root:Created directory: /scratch/javidom/proyect-3-indicator/504885\n",
      "INFO:root:Created fresh scratch directory: /scratch/javidom/proyect-3-indicator/504885\n",
      "ERROR:root:Error executing command: ls: cannot access /dipc/javidom/proyect-3-indicator/504885/Test.FChk: No such file or directory\n",
      "\n",
      "ERROR:root:Error renaming output files for 504885: Test.FChk not found in /dipc/javidom/proyect-3-indicator/504885\n",
      "ERROR:root:Error preparing DM2PRIM input files for 504885: Test.FChk not found in /dipc/javidom/proyect-3-indicator/504885\n",
      "ERROR:root:Error in correlation flux for 504885: Test.FChk not found in /dipc/javidom/proyect-3-indicator/504885\n",
      "ERROR:root:Error in flux 504885: Test.FChk not found in /dipc/javidom/proyect-3-indicator/504885\n",
      "ERROR:project_3_indicator.handler.calculation:Calculation 504885 failed: Test.FChk not found in /dipc/javidom/proyect-3-indicator/504885\n",
      "ERROR:project_3_indicator.handler.calculation:Error in calculation workflow (308.0s): Test.FChk not found in /dipc/javidom/proyect-3-indicator/504885\n",
      "ERROR:project_3_indicator:Error in calculation execution: Test.FChk not found in /dipc/javidom/proyect-3-indicator/504885\n",
      "INFO:paramiko.transport:Connected (version 2.0, client OpenSSH_7.4)\n"
     ]
    },
    {
     "name": "stdout",
     "output_type": "stream",
     "text": [
      "Disconnected from cluster.\n",
      "Exception occurred: <class 'FileNotFoundError'>, Test.FChk not found in /dipc/javidom/proyect-3-indicator/504885\n",
      "Error processing Li+: Test.FChk not found in /dipc/javidom/proyect-3-indicator/504885. Skipping.\n"
     ]
    },
    {
     "name": "stderr",
     "output_type": "stream",
     "text": [
      "INFO:paramiko.transport:Authentication (publickey) successful!\n",
      "INFO:project_3_indicator.input.specification:Creating input specification for beryllium_atom with CASSCF(2,2)/5SPD\n",
      "INFO:project_3_indicator.input.specification:Using default basis set '5SPD'.\n",
      "INFO:project_3_indicator.handler.calculation:Processing calculation for beryllium_atom with CASSCF(2,2)/5SPD\n",
      "INFO:project_3_indicator.handler.calculation:Created new calculation with ID: 228482\n",
      "INFO:root:Pair density nucleus property detected for 228482. Needs more calculations\n"
     ]
    },
    {
     "name": "stdout",
     "output_type": "stream",
     "text": [
      "Connected to atlas.\n",
      "Geometry for beryllium_atom successfully loaded.\n",
      "Method name: CASSCF(2,2) False\n",
      "Configuration: SP\n",
      "Method: CASSCF(2,2)\n",
      "Basis: 5SPD\n",
      "Molecule: beryllium_atom\n",
      "Molecule: beryllium atom( charge = 2)\n",
      "Number of atoms: 1\n",
      "Geometry data: [['Be', 0.0, 0.0, 0.0]]\n",
      "Grid: atom molecule\n",
      "(0, 0.0)\n",
      "(0, 0)\n",
      "(3, 0.05)\n",
      "Grid: $Grid\n",
      "0.0 0 0.0\n",
      "0.0 0 0\n",
      "0.0 3 0.05\n",
      "\n",
      "otr\n",
      "pair_density_nucleus\n",
      "indicator_dynamic\n",
      "Even-tempered coefficients loaded: alpha=288.490355325003, beta=0.266609454015625\n",
      "Even-tempered coefficients loaded: alpha=288.490355325003, beta=0.266609454015625\n",
      "['density', 'on_top', 'pair_density_nucleus']\n"
     ]
    },
    {
     "name": "stderr",
     "output_type": "stream",
     "text": [
      "ERROR:root:Error executing command: ls: cannot access /dipc/javidom/proyect-3-indicator/228482: No such file or directory\n",
      "\n",
      "INFO:root:Command output: \n",
      "INFO:root:Created directory: /dipc/javidom/proyect-3-indicator/228482\n",
      "INFO:root:Created new colony directory: /dipc/javidom/proyect-3-indicator/228482\n",
      "INFO:root:Command output: \n",
      "INFO:root:Created directory: /scratch/javidom/proyect-3-indicator/228482\n",
      "INFO:root:Created fresh scratch directory: /scratch/javidom/proyect-3-indicator/228482\n"
     ]
    },
    {
     "name": "stdout",
     "output_type": "stream",
     "text": [
      "Gaussian input file './test/228482.com' generated successfully.\n"
     ]
    },
    {
     "name": "stderr",
     "output_type": "stream",
     "text": [
      "INFO:root:Generated Gaussian SLURM script at test/228482_gaussian.slurm\n"
     ]
    },
    {
     "name": "stdout",
     "output_type": "stream",
     "text": [
      "Uploaded test/228482.com to /dipc/javidom/proyect-3-indicator/228482/228482.com on the cluster.\n"
     ]
    },
    {
     "name": "stderr",
     "output_type": "stream",
     "text": [
      "INFO:root:Input files prepared for 228482\n"
     ]
    },
    {
     "name": "stdout",
     "output_type": "stream",
     "text": [
      "Uploaded test/228482_gaussian.slurm to /dipc/javidom/proyect-3-indicator/228482/228482_gaussian.slurm on the cluster.\n"
     ]
    },
    {
     "name": "stderr",
     "output_type": "stream",
     "text": [
      "INFO:root:Command output: \n",
      "INFO:root:Command output: /scratch/javidom/proyect-3-indicator/228482/228482.com\n",
      "\n",
      "INFO:root:Moved 228482.com from colony to scratch for 228482\n",
      "INFO:root:Command output: \n",
      "INFO:root:Command output: /scratch/javidom/proyect-3-indicator/228482/228482_gaussian.slurm\n",
      "\n",
      "INFO:root:Moved 228482_gaussian.slurm from colony to scratch for 228482\n",
      "INFO:root:Command output: Submitted batch job 2522399\n",
      "\n",
      "INFO:root:Submitted job with ID 2522399 for 228482_gaussian\n",
      "INFO:root:Submitted job 2522399 for 228482_gaussian\n",
      "INFO:root:Monitoring job 2522399 for 228482_gaussian...\n",
      "INFO:root:Command output:                JOBID   PARTITION         QOS                  NAME          USER    ST         TIME  NODES  NODELIST(REASON)\n",
      "             2522399     general     regular       228482_gaussian       javidom    PD         0:00      1  (Priority)\n",
      "\n",
      "INFO:root:Job 2522399 for 228482_gaussian still running, checking again in 1 seconds\n",
      "INFO:root:Command output:                JOBID   PARTITION         QOS                  NAME          USER    ST         TIME  NODES  NODELIST(REASON)\n",
      "             2522399     general     regular       228482_gaussian       javidom    PD         0:00      1  (Priority)\n",
      "\n",
      "INFO:root:Job 2522399 for 228482_gaussian still running, checking again in 2 seconds\n",
      "INFO:root:Command output:                JOBID   PARTITION         QOS                  NAME          USER    ST         TIME  NODES  NODELIST(REASON)\n",
      "             2522399     general     regular       228482_gaussian       javidom    PD         0:00      1  (Priority)\n",
      "\n",
      "INFO:root:Job 2522399 for 228482_gaussian still running, checking again in 4 seconds\n",
      "INFO:root:Command output:                JOBID   PARTITION         QOS                  NAME          USER    ST         TIME  NODES  NODELIST(REASON)\n",
      "             2522399     general     regular       228482_gaussian       javidom    PD         0:00      1  (Priority)\n",
      "\n",
      "INFO:root:Job 2522399 for 228482_gaussian still running, checking again in 8 seconds\n",
      "INFO:root:Command output:                JOBID   PARTITION         QOS                  NAME          USER    ST         TIME  NODES  NODELIST(REASON)\n",
      "             2522399     general     regular       228482_gaussian       javidom    PD         0:00      1  (Priority)\n",
      "\n",
      "INFO:root:Job 2522399 for 228482_gaussian still running, checking again in 16 seconds\n",
      "INFO:root:Command output:                JOBID   PARTITION         QOS                  NAME          USER    ST         TIME  NODES  NODELIST(REASON)\n",
      "             2522399     general     regular       228482_gaussian       javidom    CG         0:05      1  atlas-316\n",
      "\n",
      "INFO:root:Job 2522399 for 228482_gaussian still running, checking again in 20 seconds\n",
      "INFO:root:Command output:                JOBID   PARTITION         QOS                  NAME          USER    ST         TIME  NODES  NODELIST(REASON)\n",
      "\n",
      "INFO:root:Job 2522399 for 228482_gaussian completed after 0:00:54.066944\n",
      "INFO:root:Job 2522399 completed successfully\n",
      "INFO:root:Job 2522399 completed successfully for 228482\n",
      "INFO:root:Command output: \n"
     ]
    },
    {
     "name": "stdout",
     "output_type": "stream",
     "text": [
      "Method name: HF True\n",
      "Gaussian input file './test/228482_hf.com' generated successfully.\n"
     ]
    },
    {
     "name": "stderr",
     "output_type": "stream",
     "text": [
      "INFO:root:Generated Gaussian SLURM script at test/228482_hf_gaussian.slurm\n"
     ]
    },
    {
     "name": "stdout",
     "output_type": "stream",
     "text": [
      "Uploaded test/228482_hf.com to /dipc/javidom/proyect-3-indicator/228482/228482_hf.com on the cluster.\n"
     ]
    },
    {
     "name": "stderr",
     "output_type": "stream",
     "text": [
      "INFO:root:Input files prepared for 228482_hf\n"
     ]
    },
    {
     "name": "stdout",
     "output_type": "stream",
     "text": [
      "Uploaded test/228482_hf_gaussian.slurm to /dipc/javidom/proyect-3-indicator/228482/228482_hf_gaussian.slurm on the cluster.\n"
     ]
    },
    {
     "name": "stderr",
     "output_type": "stream",
     "text": [
      "INFO:root:Command output: \n",
      "INFO:root:Command output: /scratch/javidom/proyect-3-indicator/228482/228482_hf.com\n",
      "\n",
      "INFO:root:Moved 228482_hf.com from colony to scratch for 228482\n",
      "INFO:root:Command output: \n",
      "INFO:root:Command output: /scratch/javidom/proyect-3-indicator/228482/228482_hf_gaussian.slurm\n",
      "\n",
      "INFO:root:Moved 228482_hf_gaussian.slurm from colony to scratch for 228482\n",
      "INFO:root:Command output: Submitted batch job 2522400\n",
      "\n",
      "INFO:root:Submitted job with ID 2522400 for 228482_hf_gaussian\n",
      "INFO:root:Submitted job 2522400 for 228482_hf_gaussian\n",
      "INFO:root:Monitoring job 2522400 for 228482_hf_gaussian...\n",
      "INFO:root:Command output:                JOBID   PARTITION         QOS                  NAME          USER    ST         TIME  NODES  NODELIST(REASON)\n",
      "             2522400     general     regular    228482_hf_gaussian       javidom    PD         0:00      1  (Priority)\n",
      "\n",
      "INFO:root:Job 2522400 for 228482_hf_gaussian still running, checking again in 1 seconds\n",
      "INFO:root:Command output:                JOBID   PARTITION         QOS                  NAME          USER    ST         TIME  NODES  NODELIST(REASON)\n",
      "             2522400     general     regular    228482_hf_gaussian       javidom    PD         0:00      1  (Priority)\n",
      "\n",
      "INFO:root:Job 2522400 for 228482_hf_gaussian still running, checking again in 2 seconds\n",
      "INFO:root:Command output:                JOBID   PARTITION         QOS                  NAME          USER    ST         TIME  NODES  NODELIST(REASON)\n",
      "             2522400     general     regular    228482_hf_gaussian       javidom    PD         0:00      1  (Priority)\n",
      "\n",
      "INFO:root:Job 2522400 for 228482_hf_gaussian still running, checking again in 4 seconds\n",
      "INFO:root:Command output:                JOBID   PARTITION         QOS                  NAME          USER    ST         TIME  NODES  NODELIST(REASON)\n",
      "             2522400     general     regular    228482_hf_gaussian       javidom    PD         0:00      1  (Priority)\n",
      "\n",
      "INFO:root:Job 2522400 for 228482_hf_gaussian still running, checking again in 8 seconds\n",
      "INFO:root:Command output:                JOBID   PARTITION         QOS                  NAME          USER    ST         TIME  NODES  NODELIST(REASON)\n",
      "             2522400     general     regular    228482_hf_gaussian       javidom    PD         0:00      1  (Priority)\n",
      "\n",
      "INFO:root:Job 2522400 for 228482_hf_gaussian still running, checking again in 16 seconds\n",
      "INFO:root:Command output:                JOBID   PARTITION         QOS                  NAME          USER    ST         TIME  NODES  NODELIST(REASON)\n",
      "             2522400     general     regular    228482_hf_gaussian       javidom    CG         0:04      1  atlas-316\n",
      "\n",
      "INFO:root:Job 2522400 for 228482_hf_gaussian still running, checking again in 20 seconds\n",
      "INFO:root:Command output:                JOBID   PARTITION         QOS                  NAME          USER    ST         TIME  NODES  NODELIST(REASON)\n",
      "\n",
      "INFO:root:Job 2522400 for 228482_hf_gaussian completed after 0:00:55.143719\n",
      "INFO:root:Job 2522400 completed successfully\n",
      "INFO:root:Job 2522400 completed successfully for 228482_hf\n",
      "INFO:root:Command output: \n"
     ]
    },
    {
     "name": "stdout",
     "output_type": "stream",
     "text": [
      "Gaussian input file './test/228482_hfl.com' generated successfully.\n"
     ]
    },
    {
     "name": "stderr",
     "output_type": "stream",
     "text": [
      "INFO:root:Generated Gaussian SLURM script at test/228482_hfl_gaussian.slurm\n"
     ]
    },
    {
     "name": "stdout",
     "output_type": "stream",
     "text": [
      "Uploaded test/228482_hfl.com to /dipc/javidom/proyect-3-indicator/228482/228482_hfl.com on the cluster.\n"
     ]
    },
    {
     "name": "stderr",
     "output_type": "stream",
     "text": [
      "INFO:root:Input files prepared for 228482_hfl\n"
     ]
    },
    {
     "name": "stdout",
     "output_type": "stream",
     "text": [
      "Uploaded test/228482_hfl_gaussian.slurm to /dipc/javidom/proyect-3-indicator/228482/228482_hfl_gaussian.slurm on the cluster.\n"
     ]
    },
    {
     "name": "stderr",
     "output_type": "stream",
     "text": [
      "INFO:root:Command output: \n",
      "INFO:root:Command output: /scratch/javidom/proyect-3-indicator/228482/228482_hfl.com\n",
      "\n",
      "INFO:root:Moved 228482_hfl.com from colony to scratch for 228482\n",
      "INFO:root:Command output: \n",
      "INFO:root:Command output: /scratch/javidom/proyect-3-indicator/228482/228482_hfl_gaussian.slurm\n",
      "\n",
      "INFO:root:Moved 228482_hfl_gaussian.slurm from colony to scratch for 228482\n",
      "INFO:root:Command output: Submitted batch job 2522401\n",
      "\n",
      "INFO:root:Submitted job with ID 2522401 for 228482_hfl_gaussian\n",
      "INFO:root:Submitted job 2522401 for 228482_hfl_gaussian\n",
      "INFO:root:Monitoring job 2522401 for 228482_hfl_gaussian...\n",
      "INFO:root:Command output:                JOBID   PARTITION         QOS                  NAME          USER    ST         TIME  NODES  NODELIST(REASON)\n",
      "             2522401     general     regular   228482_hfl_gaussian       javidom    PD         0:00      1  (Priority)\n",
      "\n",
      "INFO:root:Job 2522401 for 228482_hfl_gaussian still running, checking again in 1 seconds\n",
      "INFO:root:Command output:                JOBID   PARTITION         QOS                  NAME          USER    ST         TIME  NODES  NODELIST(REASON)\n",
      "             2522401     general     regular   228482_hfl_gaussian       javidom    PD         0:00      1  (Priority)\n",
      "\n",
      "INFO:root:Job 2522401 for 228482_hfl_gaussian still running, checking again in 2 seconds\n",
      "INFO:root:Command output:                JOBID   PARTITION         QOS                  NAME          USER    ST         TIME  NODES  NODELIST(REASON)\n",
      "             2522401     general     regular   228482_hfl_gaussian       javidom    PD         0:00      1  (Priority)\n",
      "\n",
      "INFO:root:Job 2522401 for 228482_hfl_gaussian still running, checking again in 4 seconds\n",
      "INFO:root:Command output:                JOBID   PARTITION         QOS                  NAME          USER    ST         TIME  NODES  NODELIST(REASON)\n",
      "             2522401     general     regular   228482_hfl_gaussian       javidom    PD         0:00      1  (Priority)\n",
      "\n",
      "INFO:root:Job 2522401 for 228482_hfl_gaussian still running, checking again in 8 seconds\n",
      "INFO:root:Command output:                JOBID   PARTITION         QOS                  NAME          USER    ST         TIME  NODES  NODELIST(REASON)\n",
      "             2522401     general     regular   228482_hfl_gaussian       javidom    PD         0:00      1  (Priority)\n",
      "\n",
      "INFO:root:Job 2522401 for 228482_hfl_gaussian still running, checking again in 16 seconds\n",
      "INFO:root:Command output:                JOBID   PARTITION         QOS                  NAME          USER    ST         TIME  NODES  NODELIST(REASON)\n",
      "\n",
      "INFO:root:Job 2522401 for 228482_hfl_gaussian completed after 0:00:33.263772\n",
      "INFO:root:Job 2522401 completed successfully\n",
      "INFO:root:Job 2522401 completed successfully for 228482_hfl\n",
      "INFO:root:Command output: \n",
      "INFO:root:Command output: drwx------ 1 javidom qchem 18 Apr  9 16:28 /dipc/javidom/proyect-3-indicator/228482\n",
      "\n",
      "INFO:root:Command output: \n",
      "INFO:root:Created directory: /scratch/javidom/proyect-3-indicator/228482\n",
      "INFO:root:Created fresh scratch directory: /scratch/javidom/proyect-3-indicator/228482\n",
      "INFO:root:Command output: /dipc/javidom/proyect-3-indicator/228482/228482.log\n",
      "\n",
      "INFO:root:Command output: \n"
     ]
    },
    {
     "name": "stdout",
     "output_type": "stream",
     "text": [
      "here\n"
     ]
    },
    {
     "name": "stderr",
     "output_type": "stream",
     "text": [
      "INFO:root:Command output: \n",
      "INFO:root:Command output: /dipc/javidom/proyect-3-indicator/228482/228482.log\n",
      "\n",
      "INFO:root:Generated DMN SLURM script at test/228482_dmn.slurm\n"
     ]
    },
    {
     "name": "stdout",
     "output_type": "stream",
     "text": [
      "Uploaded test/228482_dmn.slurm to /dipc/javidom/proyect-3-indicator/228482/228482_dmn.slurm on the cluster.\n"
     ]
    },
    {
     "name": "stderr",
     "output_type": "stream",
     "text": [
      "INFO:root:Command output: \n",
      "INFO:root:Command output: /scratch/javidom/proyect-3-indicator/228482/228482_dmn.slurm\n",
      "\n",
      "INFO:root:Moved 228482_dmn.slurm from colony to scratch for 228482\n",
      "INFO:root:Command output: \n",
      "INFO:root:Command output: /scratch/javidom/proyect-3-indicator/228482/228482.log\n",
      "\n",
      "INFO:root:Moved 228482.log from colony to scratch for 228482\n",
      "INFO:root:Command output: Submitted batch job 2522402\n",
      "\n",
      "INFO:root:Submitted job with ID 2522402 for 228482_dmn\n",
      "INFO:root:Submitted job 2522402 for 228482_dmn\n",
      "INFO:root:Monitoring job 2522402 for 228482_dmn...\n",
      "INFO:root:Command output:                JOBID   PARTITION         QOS                  NAME          USER    ST         TIME  NODES  NODELIST(REASON)\n",
      "             2522402     general     regular            228482_dmn       javidom    PD         0:00      1  (Priority)\n",
      "\n",
      "INFO:root:Job 2522402 for 228482_dmn still running, checking again in 1 seconds\n",
      "INFO:root:Command output:                JOBID   PARTITION         QOS                  NAME          USER    ST         TIME  NODES  NODELIST(REASON)\n",
      "             2522402     general     regular            228482_dmn       javidom    PD         0:00      1  (Priority)\n",
      "\n",
      "INFO:root:Job 2522402 for 228482_dmn still running, checking again in 2 seconds\n",
      "INFO:root:Command output:                JOBID   PARTITION         QOS                  NAME          USER    ST         TIME  NODES  NODELIST(REASON)\n",
      "             2522402     general     regular            228482_dmn       javidom    PD         0:00      1  (Priority)\n",
      "\n",
      "INFO:root:Job 2522402 for 228482_dmn still running, checking again in 4 seconds\n",
      "INFO:root:Command output:                JOBID   PARTITION         QOS                  NAME          USER    ST         TIME  NODES  NODELIST(REASON)\n",
      "             2522402     general     regular            228482_dmn       javidom    PD         0:00      1  (Priority)\n",
      "\n",
      "INFO:root:Job 2522402 for 228482_dmn still running, checking again in 8 seconds\n",
      "INFO:root:Command output:                JOBID   PARTITION         QOS                  NAME          USER    ST         TIME  NODES  NODELIST(REASON)\n",
      "             2522402     general     regular            228482_dmn       javidom    PD         0:00      1  (Priority)\n",
      "\n",
      "INFO:root:Job 2522402 for 228482_dmn still running, checking again in 16 seconds\n",
      "INFO:root:Command output:                JOBID   PARTITION         QOS                  NAME          USER    ST         TIME  NODES  NODELIST(REASON)\n",
      "             2522402     general     regular            228482_dmn       javidom    PD         0:00      1  (Priority)\n",
      "\n",
      "INFO:root:Job 2522402 for 228482_dmn still running, checking again in 20 seconds\n",
      "INFO:root:Command output:                JOBID   PARTITION         QOS                  NAME          USER    ST         TIME  NODES  NODELIST(REASON)\n",
      "\n",
      "INFO:root:Job 2522402 for 228482_dmn completed after 0:00:55.646648\n",
      "INFO:root:Job 2522402 completed successfully\n",
      "INFO:root:Job 2522402 completed successfully for 228482\n",
      "INFO:root:Command output: \n",
      "INFO:root:Command output: drwx------ 1 javidom qchem 22 Apr  9 16:29 /dipc/javidom/proyect-3-indicator/228482\n",
      "\n",
      "INFO:root:Command output: \n",
      "INFO:root:Created directory: /scratch/javidom/proyect-3-indicator/228482\n",
      "INFO:root:Created fresh scratch directory: /scratch/javidom/proyect-3-indicator/228482\n",
      "ERROR:root:Error executing command: ls: cannot access /dipc/javidom/proyect-3-indicator/228482/Test.FChk: No such file or directory\n",
      "\n",
      "ERROR:root:Error renaming output files for 228482: Test.FChk not found in /dipc/javidom/proyect-3-indicator/228482\n",
      "ERROR:root:Error preparing DM2PRIM input files for 228482: Test.FChk not found in /dipc/javidom/proyect-3-indicator/228482\n",
      "ERROR:root:Error in correlation flux for 228482: Test.FChk not found in /dipc/javidom/proyect-3-indicator/228482\n",
      "ERROR:root:Error in flux 228482: Test.FChk not found in /dipc/javidom/proyect-3-indicator/228482\n",
      "ERROR:project_3_indicator.handler.calculation:Calculation 228482 failed: Test.FChk not found in /dipc/javidom/proyect-3-indicator/228482\n",
      "ERROR:project_3_indicator.handler.calculation:Error in calculation workflow (223.2s): Test.FChk not found in /dipc/javidom/proyect-3-indicator/228482\n",
      "ERROR:project_3_indicator:Error in calculation execution: Test.FChk not found in /dipc/javidom/proyect-3-indicator/228482\n",
      "INFO:paramiko.transport:Connected (version 2.0, client OpenSSH_7.4)\n"
     ]
    },
    {
     "name": "stdout",
     "output_type": "stream",
     "text": [
      "Disconnected from cluster.\n",
      "Exception occurred: <class 'FileNotFoundError'>, Test.FChk not found in /dipc/javidom/proyect-3-indicator/228482\n",
      "Error processing Be2+: Test.FChk not found in /dipc/javidom/proyect-3-indicator/228482. Skipping.\n"
     ]
    },
    {
     "name": "stderr",
     "output_type": "stream",
     "text": [
      "INFO:paramiko.transport:Authentication (publickey) successful!\n",
      "INFO:project_3_indicator.input.specification:Creating input specification for boron_atom with CASSCF(2,2)/5SPD\n",
      "INFO:project_3_indicator.input.specification:Using default basis set '5SPD'.\n",
      "INFO:project_3_indicator.handler.calculation:Processing calculation for boron_atom with CASSCF(2,2)/5SPD\n",
      "INFO:project_3_indicator.handler.calculation:Created new calculation with ID: 231092\n",
      "INFO:root:Pair density nucleus property detected for 231092. Needs more calculations\n"
     ]
    },
    {
     "name": "stdout",
     "output_type": "stream",
     "text": [
      "Connected to atlas.\n",
      "Geometry for boron_atom successfully loaded.\n",
      "Method name: CASSCF(2,2) False\n",
      "Configuration: SP\n",
      "Method: CASSCF(2,2)\n",
      "Basis: 5SPD\n",
      "Molecule: boron_atom\n",
      "Molecule: boron atom( charge = 3)\n",
      "Number of atoms: 1\n",
      "Geometry data: [['B', 0.0, 0.0, 0.0]]\n",
      "Grid: atom molecule\n",
      "(0, 0.0)\n",
      "(0, 0)\n",
      "(3, 0.05)\n",
      "Grid: $Grid\n",
      "0.0 0 0.0\n",
      "0.0 0 0\n",
      "0.0 3 0.05\n",
      "\n",
      "otr\n",
      "pair_density_nucleus\n",
      "indicator_dynamic\n",
      "Even-tempered coefficients loaded: alpha=458.626677665621, beta=0.2691281709375\n",
      "Even-tempered coefficients loaded: alpha=458.626677665621, beta=0.2691281709375\n",
      "['density', 'on_top', 'pair_density_nucleus']\n"
     ]
    },
    {
     "name": "stderr",
     "output_type": "stream",
     "text": [
      "ERROR:root:Error executing command: ls: cannot access /dipc/javidom/proyect-3-indicator/231092: No such file or directory\n",
      "\n",
      "INFO:root:Command output: \n",
      "INFO:root:Created directory: /dipc/javidom/proyect-3-indicator/231092\n",
      "INFO:root:Created new colony directory: /dipc/javidom/proyect-3-indicator/231092\n",
      "INFO:root:Command output: \n",
      "INFO:root:Created directory: /scratch/javidom/proyect-3-indicator/231092\n",
      "INFO:root:Created fresh scratch directory: /scratch/javidom/proyect-3-indicator/231092\n"
     ]
    },
    {
     "name": "stdout",
     "output_type": "stream",
     "text": [
      "Gaussian input file './test/231092.com' generated successfully.\n"
     ]
    },
    {
     "name": "stderr",
     "output_type": "stream",
     "text": [
      "INFO:root:Generated Gaussian SLURM script at test/231092_gaussian.slurm\n"
     ]
    },
    {
     "name": "stdout",
     "output_type": "stream",
     "text": [
      "Uploaded test/231092.com to /dipc/javidom/proyect-3-indicator/231092/231092.com on the cluster.\n"
     ]
    },
    {
     "name": "stderr",
     "output_type": "stream",
     "text": [
      "INFO:root:Input files prepared for 231092\n"
     ]
    },
    {
     "name": "stdout",
     "output_type": "stream",
     "text": [
      "Uploaded test/231092_gaussian.slurm to /dipc/javidom/proyect-3-indicator/231092/231092_gaussian.slurm on the cluster.\n"
     ]
    },
    {
     "name": "stderr",
     "output_type": "stream",
     "text": [
      "INFO:root:Command output: \n",
      "INFO:root:Command output: /scratch/javidom/proyect-3-indicator/231092/231092.com\n",
      "\n",
      "INFO:root:Moved 231092.com from colony to scratch for 231092\n",
      "INFO:root:Command output: \n",
      "INFO:root:Command output: /scratch/javidom/proyect-3-indicator/231092/231092_gaussian.slurm\n",
      "\n",
      "INFO:root:Moved 231092_gaussian.slurm from colony to scratch for 231092\n",
      "INFO:root:Command output: Submitted batch job 2522403\n",
      "\n",
      "INFO:root:Submitted job with ID 2522403 for 231092_gaussian\n",
      "INFO:root:Submitted job 2522403 for 231092_gaussian\n",
      "INFO:root:Monitoring job 2522403 for 231092_gaussian...\n",
      "INFO:root:Command output:                JOBID   PARTITION         QOS                  NAME          USER    ST         TIME  NODES  NODELIST(REASON)\n",
      "             2522403     general     regular       231092_gaussian       javidom    PD         0:00      1  (Priority)\n",
      "\n",
      "INFO:root:Job 2522403 for 231092_gaussian still running, checking again in 1 seconds\n",
      "INFO:root:Command output:                JOBID   PARTITION         QOS                  NAME          USER    ST         TIME  NODES  NODELIST(REASON)\n",
      "             2522403     general     regular       231092_gaussian       javidom    PD         0:00      1  (Priority)\n",
      "\n",
      "INFO:root:Job 2522403 for 231092_gaussian still running, checking again in 2 seconds\n",
      "INFO:root:Command output:                JOBID   PARTITION         QOS                  NAME          USER    ST         TIME  NODES  NODELIST(REASON)\n",
      "             2522403     general     regular       231092_gaussian       javidom    PD         0:00      1  (Priority)\n",
      "\n",
      "INFO:root:Job 2522403 for 231092_gaussian still running, checking again in 4 seconds\n",
      "INFO:root:Command output:                JOBID   PARTITION         QOS                  NAME          USER    ST         TIME  NODES  NODELIST(REASON)\n",
      "             2522403     general     regular       231092_gaussian       javidom    PD         0:00      1  (Priority)\n",
      "\n",
      "INFO:root:Job 2522403 for 231092_gaussian still running, checking again in 8 seconds\n",
      "INFO:root:Command output:                JOBID   PARTITION         QOS                  NAME          USER    ST         TIME  NODES  NODELIST(REASON)\n",
      "             2522403     general     regular       231092_gaussian       javidom    PD         0:00      1  (Priority)\n",
      "\n",
      "INFO:root:Job 2522403 for 231092_gaussian still running, checking again in 16 seconds\n",
      "INFO:root:Command output:                JOBID   PARTITION         QOS                  NAME          USER    ST         TIME  NODES  NODELIST(REASON)\n",
      "             2522403     general     regular       231092_gaussian       javidom    PD         0:00      1  (Priority)\n",
      "\n",
      "INFO:root:Job 2522403 for 231092_gaussian still running, checking again in 20 seconds\n",
      "INFO:root:Command output:                JOBID   PARTITION         QOS                  NAME          USER    ST         TIME  NODES  NODELIST(REASON)\n",
      "\n",
      "INFO:root:Job 2522403 for 231092_gaussian completed after 0:00:59.122105\n",
      "INFO:root:Job 2522403 completed successfully\n",
      "INFO:root:Job 2522403 completed successfully for 231092\n",
      "INFO:root:Command output: \n"
     ]
    },
    {
     "name": "stdout",
     "output_type": "stream",
     "text": [
      "Method name: HF True\n",
      "Gaussian input file './test/231092_hf.com' generated successfully.\n"
     ]
    },
    {
     "name": "stderr",
     "output_type": "stream",
     "text": [
      "INFO:root:Generated Gaussian SLURM script at test/231092_hf_gaussian.slurm\n"
     ]
    },
    {
     "name": "stdout",
     "output_type": "stream",
     "text": [
      "Uploaded test/231092_hf.com to /dipc/javidom/proyect-3-indicator/231092/231092_hf.com on the cluster.\n"
     ]
    },
    {
     "name": "stderr",
     "output_type": "stream",
     "text": [
      "INFO:root:Input files prepared for 231092_hf\n"
     ]
    },
    {
     "name": "stdout",
     "output_type": "stream",
     "text": [
      "Uploaded test/231092_hf_gaussian.slurm to /dipc/javidom/proyect-3-indicator/231092/231092_hf_gaussian.slurm on the cluster.\n"
     ]
    },
    {
     "name": "stderr",
     "output_type": "stream",
     "text": [
      "INFO:root:Command output: \n",
      "INFO:root:Command output: /scratch/javidom/proyect-3-indicator/231092/231092_hf.com\n",
      "\n",
      "INFO:root:Moved 231092_hf.com from colony to scratch for 231092\n",
      "INFO:root:Command output: \n",
      "INFO:root:Command output: /scratch/javidom/proyect-3-indicator/231092/231092_hf_gaussian.slurm\n",
      "\n",
      "INFO:root:Moved 231092_hf_gaussian.slurm from colony to scratch for 231092\n",
      "INFO:root:Command output: Submitted batch job 2522405\n",
      "\n",
      "INFO:root:Submitted job with ID 2522405 for 231092_hf_gaussian\n",
      "INFO:root:Submitted job 2522405 for 231092_hf_gaussian\n",
      "INFO:root:Monitoring job 2522405 for 231092_hf_gaussian...\n",
      "INFO:root:Command output:                JOBID   PARTITION         QOS                  NAME          USER    ST         TIME  NODES  NODELIST(REASON)\n",
      "             2522405     general     regular    231092_hf_gaussian       javidom    PD         0:00      1  (Priority)\n",
      "\n",
      "INFO:root:Job 2522405 for 231092_hf_gaussian still running, checking again in 1 seconds\n",
      "INFO:root:Command output:                JOBID   PARTITION         QOS                  NAME          USER    ST         TIME  NODES  NODELIST(REASON)\n",
      "             2522405     general     regular    231092_hf_gaussian       javidom    PD         0:00      1  (Priority)\n",
      "\n",
      "INFO:root:Job 2522405 for 231092_hf_gaussian still running, checking again in 2 seconds\n",
      "INFO:root:Command output:                JOBID   PARTITION         QOS                  NAME          USER    ST         TIME  NODES  NODELIST(REASON)\n",
      "             2522405     general     regular    231092_hf_gaussian       javidom    PD         0:00      1  (Priority)\n",
      "\n",
      "INFO:root:Job 2522405 for 231092_hf_gaussian still running, checking again in 4 seconds\n",
      "INFO:root:Command output:                JOBID   PARTITION         QOS                  NAME          USER    ST         TIME  NODES  NODELIST(REASON)\n",
      "             2522405     general     regular    231092_hf_gaussian       javidom    PD         0:00      1  (Priority)\n",
      "\n",
      "INFO:root:Job 2522405 for 231092_hf_gaussian still running, checking again in 8 seconds\n",
      "INFO:root:Command output:                JOBID   PARTITION         QOS                  NAME          USER    ST         TIME  NODES  NODELIST(REASON)\n",
      "             2522405     general     regular    231092_hf_gaussian       javidom    PD         0:00      1  (Priority)\n",
      "\n",
      "INFO:root:Job 2522405 for 231092_hf_gaussian still running, checking again in 16 seconds\n",
      "INFO:root:Command output:                JOBID   PARTITION         QOS                  NAME          USER    ST         TIME  NODES  NODELIST(REASON)\n",
      "             2522405     general     regular    231092_hf_gaussian       javidom    CG         0:04      1  atlas-316\n",
      "\n",
      "INFO:root:Job 2522405 for 231092_hf_gaussian still running, checking again in 20 seconds\n",
      "INFO:root:Command output:                JOBID   PARTITION         QOS                  NAME          USER    ST         TIME  NODES  NODELIST(REASON)\n",
      "\n",
      "INFO:root:Job 2522405 for 231092_hf_gaussian completed after 0:00:56.373563\n",
      "INFO:root:Job 2522405 completed successfully\n",
      "INFO:root:Job 2522405 completed successfully for 231092_hf\n",
      "INFO:root:Command output: \n"
     ]
    },
    {
     "name": "stdout",
     "output_type": "stream",
     "text": [
      "Gaussian input file './test/231092_hfl.com' generated successfully.\n"
     ]
    },
    {
     "name": "stderr",
     "output_type": "stream",
     "text": [
      "INFO:root:Generated Gaussian SLURM script at test/231092_hfl_gaussian.slurm\n"
     ]
    },
    {
     "name": "stdout",
     "output_type": "stream",
     "text": [
      "Uploaded test/231092_hfl.com to /dipc/javidom/proyect-3-indicator/231092/231092_hfl.com on the cluster.\n"
     ]
    },
    {
     "name": "stderr",
     "output_type": "stream",
     "text": [
      "INFO:root:Input files prepared for 231092_hfl\n"
     ]
    },
    {
     "name": "stdout",
     "output_type": "stream",
     "text": [
      "Uploaded test/231092_hfl_gaussian.slurm to /dipc/javidom/proyect-3-indicator/231092/231092_hfl_gaussian.slurm on the cluster.\n"
     ]
    },
    {
     "name": "stderr",
     "output_type": "stream",
     "text": [
      "INFO:root:Command output: \n",
      "INFO:root:Command output: /scratch/javidom/proyect-3-indicator/231092/231092_hfl.com\n",
      "\n",
      "INFO:root:Moved 231092_hfl.com from colony to scratch for 231092\n",
      "INFO:root:Command output: \n",
      "INFO:root:Command output: /scratch/javidom/proyect-3-indicator/231092/231092_hfl_gaussian.slurm\n",
      "\n",
      "INFO:root:Moved 231092_hfl_gaussian.slurm from colony to scratch for 231092\n",
      "INFO:root:Command output: Submitted batch job 2522407\n",
      "\n",
      "INFO:root:Submitted job with ID 2522407 for 231092_hfl_gaussian\n",
      "INFO:root:Submitted job 2522407 for 231092_hfl_gaussian\n",
      "INFO:root:Monitoring job 2522407 for 231092_hfl_gaussian...\n",
      "INFO:root:Command output:                JOBID   PARTITION         QOS                  NAME          USER    ST         TIME  NODES  NODELIST(REASON)\n",
      "             2522407     general     regular   231092_hfl_gaussian       javidom    PD         0:00      1  (Priority)\n",
      "\n",
      "INFO:root:Job 2522407 for 231092_hfl_gaussian still running, checking again in 1 seconds\n",
      "INFO:root:Command output:                JOBID   PARTITION         QOS                  NAME          USER    ST         TIME  NODES  NODELIST(REASON)\n",
      "             2522407     general     regular   231092_hfl_gaussian       javidom    PD         0:00      1  (Priority)\n",
      "\n",
      "INFO:root:Job 2522407 for 231092_hfl_gaussian still running, checking again in 2 seconds\n",
      "INFO:root:Command output:                JOBID   PARTITION         QOS                  NAME          USER    ST         TIME  NODES  NODELIST(REASON)\n",
      "             2522407     general     regular   231092_hfl_gaussian       javidom    PD         0:00      1  (Priority)\n",
      "\n",
      "INFO:root:Job 2522407 for 231092_hfl_gaussian still running, checking again in 4 seconds\n",
      "INFO:root:Command output:                JOBID   PARTITION         QOS                  NAME          USER    ST         TIME  NODES  NODELIST(REASON)\n",
      "             2522407     general     regular   231092_hfl_gaussian       javidom    PD         0:00      1  (Priority)\n",
      "\n",
      "INFO:root:Job 2522407 for 231092_hfl_gaussian still running, checking again in 8 seconds\n",
      "INFO:root:Command output:                JOBID   PARTITION         QOS                  NAME          USER    ST         TIME  NODES  NODELIST(REASON)\n",
      "             2522407     general     regular   231092_hfl_gaussian       javidom    PD         0:00      1  (Priority)\n",
      "\n",
      "INFO:root:Job 2522407 for 231092_hfl_gaussian still running, checking again in 16 seconds\n",
      "INFO:root:Command output:                JOBID   PARTITION         QOS                  NAME          USER    ST         TIME  NODES  NODELIST(REASON)\n",
      "             2522407     general     regular   231092_hfl_gaussian       javidom    CG         0:04      1  atlas-316\n",
      "\n",
      "INFO:root:Job 2522407 for 231092_hfl_gaussian still running, checking again in 20 seconds\n",
      "INFO:root:Command output:                JOBID   PARTITION         QOS                  NAME          USER    ST         TIME  NODES  NODELIST(REASON)\n",
      "\n",
      "INFO:root:Job 2522407 for 231092_hfl_gaussian completed after 0:00:55.478901\n",
      "INFO:root:Job 2522407 completed successfully\n",
      "INFO:root:Job 2522407 completed successfully for 231092_hfl\n",
      "INFO:root:Command output: \n",
      "INFO:root:Command output: drwx------ 1 javidom qchem 18 Apr  9 16:32 /dipc/javidom/proyect-3-indicator/231092\n",
      "\n",
      "INFO:root:Command output: \n",
      "INFO:root:Created directory: /scratch/javidom/proyect-3-indicator/231092\n",
      "INFO:root:Created fresh scratch directory: /scratch/javidom/proyect-3-indicator/231092\n",
      "INFO:root:Command output: /dipc/javidom/proyect-3-indicator/231092/231092.log\n",
      "\n",
      "INFO:root:Command output: \n"
     ]
    },
    {
     "name": "stdout",
     "output_type": "stream",
     "text": [
      "here\n"
     ]
    },
    {
     "name": "stderr",
     "output_type": "stream",
     "text": [
      "INFO:root:Command output: \n",
      "INFO:root:Command output: /dipc/javidom/proyect-3-indicator/231092/231092.log\n",
      "\n",
      "INFO:root:Generated DMN SLURM script at test/231092_dmn.slurm\n"
     ]
    },
    {
     "name": "stdout",
     "output_type": "stream",
     "text": [
      "Uploaded test/231092_dmn.slurm to /dipc/javidom/proyect-3-indicator/231092/231092_dmn.slurm on the cluster.\n"
     ]
    },
    {
     "name": "stderr",
     "output_type": "stream",
     "text": [
      "INFO:root:Command output: \n",
      "INFO:root:Command output: /scratch/javidom/proyect-3-indicator/231092/231092_dmn.slurm\n",
      "\n",
      "INFO:root:Moved 231092_dmn.slurm from colony to scratch for 231092\n",
      "INFO:root:Command output: \n",
      "INFO:root:Command output: /scratch/javidom/proyect-3-indicator/231092/231092.log\n",
      "\n",
      "INFO:root:Moved 231092.log from colony to scratch for 231092\n",
      "INFO:root:Command output: Submitted batch job 2522409\n",
      "\n",
      "INFO:root:Submitted job with ID 2522409 for 231092_dmn\n",
      "INFO:root:Submitted job 2522409 for 231092_dmn\n",
      "INFO:root:Monitoring job 2522409 for 231092_dmn...\n",
      "INFO:root:Command output:                JOBID   PARTITION         QOS                  NAME          USER    ST         TIME  NODES  NODELIST(REASON)\n",
      "             2522409     general     regular            231092_dmn       javidom    PD         0:00      1  (Priority)\n",
      "\n",
      "INFO:root:Job 2522409 for 231092_dmn still running, checking again in 1 seconds\n",
      "INFO:root:Command output:                JOBID   PARTITION         QOS                  NAME          USER    ST         TIME  NODES  NODELIST(REASON)\n",
      "             2522409     general     regular            231092_dmn       javidom    PD         0:00      1  (Priority)\n",
      "\n",
      "INFO:root:Job 2522409 for 231092_dmn still running, checking again in 2 seconds\n",
      "INFO:root:Command output:                JOBID   PARTITION         QOS                  NAME          USER    ST         TIME  NODES  NODELIST(REASON)\n",
      "             2522409     general     regular            231092_dmn       javidom    PD         0:00      1  (Priority)\n",
      "\n",
      "INFO:root:Job 2522409 for 231092_dmn still running, checking again in 4 seconds\n",
      "INFO:root:Command output:                JOBID   PARTITION         QOS                  NAME          USER    ST         TIME  NODES  NODELIST(REASON)\n",
      "             2522409     general     regular            231092_dmn       javidom    PD         0:00      1  (Priority)\n",
      "\n",
      "INFO:root:Job 2522409 for 231092_dmn still running, checking again in 8 seconds\n",
      "INFO:root:Command output:                JOBID   PARTITION         QOS                  NAME          USER    ST         TIME  NODES  NODELIST(REASON)\n",
      "             2522409     general     regular            231092_dmn       javidom     R         0:02      1  atlas-316\n",
      "\n",
      "INFO:root:Job 2522409 for 231092_dmn still running, checking again in 16 seconds\n",
      "INFO:root:Command output:                JOBID   PARTITION         QOS                  NAME          USER    ST         TIME  NODES  NODELIST(REASON)\n",
      "\n",
      "INFO:root:Job 2522409 for 231092_dmn completed after 0:00:34.444287\n",
      "INFO:root:Job 2522409 completed successfully\n",
      "INFO:root:Job 2522409 completed successfully for 231092\n",
      "INFO:root:Command output: \n",
      "INFO:root:Command output: drwx------ 1 javidom qchem 22 Apr  9 16:33 /dipc/javidom/proyect-3-indicator/231092\n",
      "\n",
      "INFO:root:Command output: \n",
      "INFO:root:Created directory: /scratch/javidom/proyect-3-indicator/231092\n",
      "INFO:root:Created fresh scratch directory: /scratch/javidom/proyect-3-indicator/231092\n",
      "ERROR:root:Error executing command: ls: cannot access /dipc/javidom/proyect-3-indicator/231092/Test.FChk: No such file or directory\n",
      "\n",
      "ERROR:root:Error renaming output files for 231092: Test.FChk not found in /dipc/javidom/proyect-3-indicator/231092\n",
      "ERROR:root:Error preparing DM2PRIM input files for 231092: Test.FChk not found in /dipc/javidom/proyect-3-indicator/231092\n",
      "ERROR:root:Error in correlation flux for 231092: Test.FChk not found in /dipc/javidom/proyect-3-indicator/231092\n",
      "ERROR:root:Error in flux 231092: Test.FChk not found in /dipc/javidom/proyect-3-indicator/231092\n",
      "ERROR:project_3_indicator.handler.calculation:Calculation 231092 failed: Test.FChk not found in /dipc/javidom/proyect-3-indicator/231092\n",
      "ERROR:project_3_indicator.handler.calculation:Error in calculation workflow (231.0s): Test.FChk not found in /dipc/javidom/proyect-3-indicator/231092\n",
      "ERROR:project_3_indicator:Error in calculation execution: Test.FChk not found in /dipc/javidom/proyect-3-indicator/231092\n",
      "INFO:paramiko.transport:Connected (version 2.0, client OpenSSH_7.4)\n"
     ]
    },
    {
     "name": "stdout",
     "output_type": "stream",
     "text": [
      "Disconnected from cluster.\n",
      "Exception occurred: <class 'FileNotFoundError'>, Test.FChk not found in /dipc/javidom/proyect-3-indicator/231092\n",
      "Error processing B3+: Test.FChk not found in /dipc/javidom/proyect-3-indicator/231092. Skipping.\n"
     ]
    },
    {
     "name": "stderr",
     "output_type": "stream",
     "text": [
      "INFO:paramiko.transport:Authentication (publickey) successful!\n",
      "INFO:project_3_indicator.input.specification:Creating input specification for carbon_atom with CASSCF(2,2)/5SPD\n",
      "ERROR:project_3_indicator.handler.calculation:Error preparing input specification: Even-tempered basis is only supported for single-atom systems with 2 electrons or harmonium\n",
      "ERROR:project_3_indicator.handler.calculation:Error in calculation workflow (0.0s): Invalid input parameters: Even-tempered basis is only supported for single-atom systems with 2 electrons or harmonium\n",
      "ERROR:project_3_indicator:Error in calculation execution: Invalid input parameters: Even-tempered basis is only supported for single-atom systems with 2 electrons or harmonium\n",
      "INFO:paramiko.transport:Connected (version 2.0, client OpenSSH_7.4)\n"
     ]
    },
    {
     "name": "stdout",
     "output_type": "stream",
     "text": [
      "Connected to atlas.\n",
      "Geometry for carbon_atom successfully loaded.\n",
      "Method name: CASSCF(2,2) False\n",
      "Configuration: SP\n",
      "Method: CASSCF(2,2)\n",
      "Basis: 5SPD\n",
      "Molecule: carbon_atom\n",
      "Molecule: carbon atom( charge = 4)\n",
      "Number of atoms: 1\n",
      "Geometry data: [['Be', 0.0, 0.0, 0.0]]\n",
      "Grid: atom molecule\n",
      "(0, 0.0)\n",
      "(0, 0)\n",
      "(3, 0.05)\n",
      "Grid: $Grid\n",
      "0.0 0 0.0\n",
      "0.0 0 0\n",
      "0.0 3 0.05\n",
      "\n",
      "otr\n",
      "pair_density_nucleus\n",
      "indicator_dynamic\n",
      "Disconnected from cluster.\n",
      "Exception occurred: <class 'ValueError'>, Invalid input parameters: Even-tempered basis is only supported for single-atom systems with 2 electrons or harmonium\n",
      "Error processing C4+: Invalid input parameters: Even-tempered basis is only supported for single-atom systems with 2 electrons or harmonium. Skipping.\n"
     ]
    },
    {
     "name": "stderr",
     "output_type": "stream",
     "text": [
      "INFO:paramiko.transport:Authentication (publickey) successful!\n",
      "INFO:project_3_indicator.input.specification:Creating input specification for nitrogen_atom with CASSCF(2,2)/5SPD\n",
      "INFO:project_3_indicator.input.specification:Using default basis set '5SPD'.\n",
      "INFO:project_3_indicator.handler.calculation:Processing calculation for nitrogen_atom with CASSCF(2,2)/5SPD\n",
      "INFO:project_3_indicator.handler.calculation:Created new calculation with ID: 543321\n",
      "INFO:root:Pair density nucleus property detected for 543321. Needs more calculations\n"
     ]
    },
    {
     "name": "stdout",
     "output_type": "stream",
     "text": [
      "Connected to atlas.\n",
      "Geometry for nitrogen_atom successfully loaded.\n",
      "Method name: CASSCF(2,2) False\n",
      "Configuration: SP\n",
      "Method: CASSCF(2,2)\n",
      "Basis: 5SPD\n",
      "Molecule: nitrogen_atom\n",
      "Molecule: nitrogen atom( charge = 5)\n",
      "Number of atoms: 1\n",
      "Geometry data: [['N', 0.0, 0.0, 0.0]]\n",
      "Grid: atom molecule\n",
      "(0, 0.0)\n",
      "(0, 0)\n",
      "(3, 0.05)\n",
      "Grid: $Grid\n",
      "0.0 0 0.0\n",
      "0.0 0 0\n",
      "0.0 3 0.05\n",
      "\n",
      "otr\n",
      "pair_density_nucleus\n",
      "indicator_dynamic\n",
      "Even-tempered coefficients loaded: alpha=915.534221214844, beta=0.271959002109375\n",
      "Even-tempered coefficients loaded: alpha=915.534221214844, beta=0.271959002109375\n",
      "['density', 'on_top', 'pair_density_nucleus']\n"
     ]
    },
    {
     "name": "stderr",
     "output_type": "stream",
     "text": [
      "ERROR:root:Error executing command: ls: cannot access /dipc/javidom/proyect-3-indicator/543321: No such file or directory\n",
      "\n",
      "INFO:root:Command output: \n",
      "INFO:root:Created directory: /dipc/javidom/proyect-3-indicator/543321\n",
      "INFO:root:Created new colony directory: /dipc/javidom/proyect-3-indicator/543321\n",
      "INFO:root:Command output: \n",
      "INFO:root:Created directory: /scratch/javidom/proyect-3-indicator/543321\n",
      "INFO:root:Created fresh scratch directory: /scratch/javidom/proyect-3-indicator/543321\n"
     ]
    },
    {
     "name": "stdout",
     "output_type": "stream",
     "text": [
      "Gaussian input file './test/543321.com' generated successfully.\n"
     ]
    },
    {
     "name": "stderr",
     "output_type": "stream",
     "text": [
      "INFO:root:Generated Gaussian SLURM script at test/543321_gaussian.slurm\n"
     ]
    },
    {
     "name": "stdout",
     "output_type": "stream",
     "text": [
      "Uploaded test/543321.com to /dipc/javidom/proyect-3-indicator/543321/543321.com on the cluster.\n"
     ]
    },
    {
     "name": "stderr",
     "output_type": "stream",
     "text": [
      "INFO:root:Input files prepared for 543321\n"
     ]
    },
    {
     "name": "stdout",
     "output_type": "stream",
     "text": [
      "Uploaded test/543321_gaussian.slurm to /dipc/javidom/proyect-3-indicator/543321/543321_gaussian.slurm on the cluster.\n"
     ]
    },
    {
     "name": "stderr",
     "output_type": "stream",
     "text": [
      "INFO:root:Command output: \n",
      "INFO:root:Command output: /scratch/javidom/proyect-3-indicator/543321/543321.com\n",
      "\n",
      "INFO:root:Moved 543321.com from colony to scratch for 543321\n",
      "INFO:root:Command output: \n",
      "INFO:root:Command output: /scratch/javidom/proyect-3-indicator/543321/543321_gaussian.slurm\n",
      "\n",
      "INFO:root:Moved 543321_gaussian.slurm from colony to scratch for 543321\n",
      "INFO:root:Command output: Submitted batch job 2522410\n",
      "\n",
      "INFO:root:Submitted job with ID 2522410 for 543321_gaussian\n",
      "INFO:root:Submitted job 2522410 for 543321_gaussian\n",
      "INFO:root:Monitoring job 2522410 for 543321_gaussian...\n",
      "INFO:root:Command output:                JOBID   PARTITION         QOS                  NAME          USER    ST         TIME  NODES  NODELIST(REASON)\n",
      "             2522410     general     regular       543321_gaussian       javidom    PD         0:00      1  (Priority)\n",
      "\n",
      "INFO:root:Job 2522410 for 543321_gaussian still running, checking again in 1 seconds\n",
      "INFO:root:Command output:                JOBID   PARTITION         QOS                  NAME          USER    ST         TIME  NODES  NODELIST(REASON)\n",
      "             2522410     general     regular       543321_gaussian       javidom    PD         0:00      1  (Priority)\n",
      "\n",
      "INFO:root:Job 2522410 for 543321_gaussian still running, checking again in 2 seconds\n",
      "INFO:root:Command output:                JOBID   PARTITION         QOS                  NAME          USER    ST         TIME  NODES  NODELIST(REASON)\n",
      "             2522410     general     regular       543321_gaussian       javidom    PD         0:00      1  (Priority)\n",
      "\n",
      "INFO:root:Job 2522410 for 543321_gaussian still running, checking again in 4 seconds\n",
      "INFO:root:Command output:                JOBID   PARTITION         QOS                  NAME          USER    ST         TIME  NODES  NODELIST(REASON)\n",
      "             2522410     general     regular       543321_gaussian       javidom    PD         0:00      1  (Priority)\n",
      "\n",
      "INFO:root:Job 2522410 for 543321_gaussian still running, checking again in 8 seconds\n",
      "INFO:root:Command output:                JOBID   PARTITION         QOS                  NAME          USER    ST         TIME  NODES  NODELIST(REASON)\n",
      "             2522410     general     regular       543321_gaussian       javidom    PD         0:00      1  (Priority)\n",
      "\n",
      "INFO:root:Job 2522410 for 543321_gaussian still running, checking again in 16 seconds\n",
      "INFO:root:Command output:                JOBID   PARTITION         QOS                  NAME          USER    ST         TIME  NODES  NODELIST(REASON)\n",
      "             2522410     general     regular       543321_gaussian       javidom    PD         0:00      1  (Priority)\n",
      "\n",
      "INFO:root:Job 2522410 for 543321_gaussian still running, checking again in 20 seconds\n",
      "INFO:root:Command output:                JOBID   PARTITION         QOS                  NAME          USER    ST         TIME  NODES  NODELIST(REASON)\n",
      "             2522410     general     regular       543321_gaussian       javidom    PD         0:00      1  (Priority)\n",
      "\n",
      "INFO:root:Job 2522410 for 543321_gaussian still running, checking again in 20 seconds\n",
      "INFO:root:Command output:                JOBID   PARTITION         QOS                  NAME          USER    ST         TIME  NODES  NODELIST(REASON)\n",
      "\n",
      "INFO:root:Job 2522410 for 543321_gaussian completed after 0:01:19.615628\n",
      "INFO:root:Job 2522410 completed successfully\n",
      "INFO:root:Job 2522410 completed successfully for 543321\n",
      "INFO:root:Command output: \n"
     ]
    },
    {
     "name": "stdout",
     "output_type": "stream",
     "text": [
      "Method name: HF True\n",
      "Gaussian input file './test/543321_hf.com' generated successfully.\n"
     ]
    },
    {
     "name": "stderr",
     "output_type": "stream",
     "text": [
      "INFO:root:Generated Gaussian SLURM script at test/543321_hf_gaussian.slurm\n"
     ]
    },
    {
     "name": "stdout",
     "output_type": "stream",
     "text": [
      "Uploaded test/543321_hf.com to /dipc/javidom/proyect-3-indicator/543321/543321_hf.com on the cluster.\n"
     ]
    },
    {
     "name": "stderr",
     "output_type": "stream",
     "text": [
      "INFO:root:Input files prepared for 543321_hf\n"
     ]
    },
    {
     "name": "stdout",
     "output_type": "stream",
     "text": [
      "Uploaded test/543321_hf_gaussian.slurm to /dipc/javidom/proyect-3-indicator/543321/543321_hf_gaussian.slurm on the cluster.\n"
     ]
    },
    {
     "name": "stderr",
     "output_type": "stream",
     "text": [
      "INFO:root:Command output: \n",
      "INFO:root:Command output: /scratch/javidom/proyect-3-indicator/543321/543321_hf.com\n",
      "\n",
      "INFO:root:Moved 543321_hf.com from colony to scratch for 543321\n",
      "INFO:root:Command output: \n",
      "INFO:root:Command output: /scratch/javidom/proyect-3-indicator/543321/543321_hf_gaussian.slurm\n",
      "\n",
      "INFO:root:Moved 543321_hf_gaussian.slurm from colony to scratch for 543321\n",
      "INFO:root:Command output: Submitted batch job 2522411\n",
      "\n",
      "INFO:root:Submitted job with ID 2522411 for 543321_hf_gaussian\n",
      "INFO:root:Submitted job 2522411 for 543321_hf_gaussian\n",
      "INFO:root:Monitoring job 2522411 for 543321_hf_gaussian...\n",
      "INFO:root:Command output:                JOBID   PARTITION         QOS                  NAME          USER    ST         TIME  NODES  NODELIST(REASON)\n",
      "             2522411     general     regular    543321_hf_gaussian       javidom    PD         0:00      1  (Priority)\n",
      "\n",
      "INFO:root:Job 2522411 for 543321_hf_gaussian still running, checking again in 1 seconds\n",
      "INFO:root:Command output:                JOBID   PARTITION         QOS                  NAME          USER    ST         TIME  NODES  NODELIST(REASON)\n",
      "             2522411     general     regular    543321_hf_gaussian       javidom    PD         0:00      1  (Priority)\n",
      "\n",
      "INFO:root:Job 2522411 for 543321_hf_gaussian still running, checking again in 2 seconds\n",
      "INFO:root:Command output:                JOBID   PARTITION         QOS                  NAME          USER    ST         TIME  NODES  NODELIST(REASON)\n",
      "             2522411     general     regular    543321_hf_gaussian       javidom    PD         0:00      1  (Priority)\n",
      "\n",
      "INFO:root:Job 2522411 for 543321_hf_gaussian still running, checking again in 4 seconds\n",
      "INFO:root:Command output:                JOBID   PARTITION         QOS                  NAME          USER    ST         TIME  NODES  NODELIST(REASON)\n",
      "             2522411     general     regular    543321_hf_gaussian       javidom    PD         0:00      1  (Priority)\n",
      "\n",
      "INFO:root:Job 2522411 for 543321_hf_gaussian still running, checking again in 8 seconds\n",
      "INFO:root:Command output:                JOBID   PARTITION         QOS                  NAME          USER    ST         TIME  NODES  NODELIST(REASON)\n",
      "             2522411     general     regular    543321_hf_gaussian       javidom    PD         0:00      1  (Priority)\n",
      "\n",
      "INFO:root:Job 2522411 for 543321_hf_gaussian still running, checking again in 16 seconds\n",
      "INFO:root:Command output:                JOBID   PARTITION         QOS                  NAME          USER    ST         TIME  NODES  NODELIST(REASON)\n",
      "             2522411     general     regular    543321_hf_gaussian       javidom    PD         0:00      1  (Priority)\n",
      "\n",
      "INFO:root:Job 2522411 for 543321_hf_gaussian still running, checking again in 20 seconds\n",
      "INFO:root:Command output:                JOBID   PARTITION         QOS                  NAME          USER    ST         TIME  NODES  NODELIST(REASON)\n",
      "             2522411     general     regular    543321_hf_gaussian       javidom    PD         0:00      1  (Priority)\n",
      "\n",
      "INFO:root:Job 2522411 for 543321_hf_gaussian still running, checking again in 20 seconds\n",
      "INFO:root:Command output:                JOBID   PARTITION         QOS                  NAME          USER    ST         TIME  NODES  NODELIST(REASON)\n",
      "\n",
      "INFO:root:Job 2522411 for 543321_hf_gaussian completed after 0:01:23.455706\n",
      "INFO:root:Job 2522411 completed successfully\n",
      "INFO:root:Job 2522411 completed successfully for 543321_hf\n",
      "INFO:root:Command output: \n"
     ]
    },
    {
     "name": "stdout",
     "output_type": "stream",
     "text": [
      "Gaussian input file './test/543321_hfl.com' generated successfully.\n"
     ]
    },
    {
     "name": "stderr",
     "output_type": "stream",
     "text": [
      "INFO:root:Generated Gaussian SLURM script at test/543321_hfl_gaussian.slurm\n"
     ]
    },
    {
     "name": "stdout",
     "output_type": "stream",
     "text": [
      "Uploaded test/543321_hfl.com to /dipc/javidom/proyect-3-indicator/543321/543321_hfl.com on the cluster.\n"
     ]
    },
    {
     "name": "stderr",
     "output_type": "stream",
     "text": [
      "INFO:root:Input files prepared for 543321_hfl\n"
     ]
    },
    {
     "name": "stdout",
     "output_type": "stream",
     "text": [
      "Uploaded test/543321_hfl_gaussian.slurm to /dipc/javidom/proyect-3-indicator/543321/543321_hfl_gaussian.slurm on the cluster.\n"
     ]
    },
    {
     "name": "stderr",
     "output_type": "stream",
     "text": [
      "INFO:root:Command output: \n",
      "INFO:root:Command output: /scratch/javidom/proyect-3-indicator/543321/543321_hfl.com\n",
      "\n",
      "INFO:root:Moved 543321_hfl.com from colony to scratch for 543321\n",
      "INFO:root:Command output: \n",
      "INFO:root:Command output: /scratch/javidom/proyect-3-indicator/543321/543321_hfl_gaussian.slurm\n",
      "\n",
      "INFO:root:Moved 543321_hfl_gaussian.slurm from colony to scratch for 543321\n",
      "INFO:root:Command output: Submitted batch job 2522413\n",
      "\n",
      "INFO:root:Submitted job with ID 2522413 for 543321_hfl_gaussian\n",
      "INFO:root:Submitted job 2522413 for 543321_hfl_gaussian\n",
      "INFO:root:Monitoring job 2522413 for 543321_hfl_gaussian...\n",
      "INFO:root:Command output:                JOBID   PARTITION         QOS                  NAME          USER    ST         TIME  NODES  NODELIST(REASON)\n",
      "             2522413     general     regular   543321_hfl_gaussian       javidom    PD         0:00      1  (Priority)\n",
      "\n",
      "INFO:root:Job 2522413 for 543321_hfl_gaussian still running, checking again in 1 seconds\n",
      "INFO:root:Command output:                JOBID   PARTITION         QOS                  NAME          USER    ST         TIME  NODES  NODELIST(REASON)\n",
      "             2522413     general     regular   543321_hfl_gaussian       javidom    PD         0:00      1  (Priority)\n",
      "\n",
      "INFO:root:Job 2522413 for 543321_hfl_gaussian still running, checking again in 2 seconds\n",
      "INFO:root:Command output:                JOBID   PARTITION         QOS                  NAME          USER    ST         TIME  NODES  NODELIST(REASON)\n",
      "             2522413     general     regular   543321_hfl_gaussian       javidom    PD         0:00      1  (Priority)\n",
      "\n",
      "INFO:root:Job 2522413 for 543321_hfl_gaussian still running, checking again in 4 seconds\n",
      "INFO:root:Command output:                JOBID   PARTITION         QOS                  NAME          USER    ST         TIME  NODES  NODELIST(REASON)\n",
      "             2522413     general     regular   543321_hfl_gaussian       javidom    PD         0:00      1  (Priority)\n",
      "\n",
      "INFO:root:Job 2522413 for 543321_hfl_gaussian still running, checking again in 8 seconds\n",
      "INFO:root:Command output:                JOBID   PARTITION         QOS                  NAME          USER    ST         TIME  NODES  NODELIST(REASON)\n",
      "             2522413     general     regular   543321_hfl_gaussian       javidom    PD         0:00      1  (Priority)\n",
      "\n",
      "INFO:root:Job 2522413 for 543321_hfl_gaussian still running, checking again in 16 seconds\n",
      "INFO:root:Command output:                JOBID   PARTITION         QOS                  NAME          USER    ST         TIME  NODES  NODELIST(REASON)\n",
      "             2522413     general     regular   543321_hfl_gaussian       javidom    PD         0:00      1  (Priority)\n",
      "\n",
      "INFO:root:Job 2522413 for 543321_hfl_gaussian still running, checking again in 20 seconds\n",
      "INFO:root:Command output:                JOBID   PARTITION         QOS                  NAME          USER    ST         TIME  NODES  NODELIST(REASON)\n",
      "             2522413     general     regular   543321_hfl_gaussian       javidom    PD         0:00      1  (Priority)\n",
      "\n",
      "INFO:root:Job 2522413 for 543321_hfl_gaussian still running, checking again in 20 seconds\n",
      "INFO:root:Command output:                JOBID   PARTITION         QOS                  NAME          USER    ST         TIME  NODES  NODELIST(REASON)\n",
      "             2522413     general     regular   543321_hfl_gaussian       javidom    CG         0:04      1  atlas-316\n",
      "\n",
      "INFO:root:Job 2522413 for 543321_hfl_gaussian still running, checking again in 20 seconds\n",
      "INFO:root:Command output:                JOBID   PARTITION         QOS                  NAME          USER    ST         TIME  NODES  NODELIST(REASON)\n",
      "\n",
      "INFO:root:Job 2522413 for 543321_hfl_gaussian completed after 0:01:41.479325\n",
      "INFO:root:Job 2522413 completed successfully\n",
      "INFO:root:Job 2522413 completed successfully for 543321_hfl\n",
      "INFO:root:Command output: \n",
      "INFO:root:Command output: drwx------ 1 javidom qchem 18 Apr  9 16:38 /dipc/javidom/proyect-3-indicator/543321\n",
      "\n",
      "INFO:root:Command output: \n",
      "INFO:root:Created directory: /scratch/javidom/proyect-3-indicator/543321\n",
      "INFO:root:Created fresh scratch directory: /scratch/javidom/proyect-3-indicator/543321\n",
      "INFO:root:Command output: /dipc/javidom/proyect-3-indicator/543321/543321.log\n",
      "\n",
      "INFO:root:Command output: \n"
     ]
    },
    {
     "name": "stdout",
     "output_type": "stream",
     "text": [
      "here\n"
     ]
    },
    {
     "name": "stderr",
     "output_type": "stream",
     "text": [
      "INFO:root:Command output: \n",
      "INFO:root:Command output: /dipc/javidom/proyect-3-indicator/543321/543321.log\n",
      "\n",
      "INFO:root:Generated DMN SLURM script at test/543321_dmn.slurm\n"
     ]
    },
    {
     "name": "stdout",
     "output_type": "stream",
     "text": [
      "Uploaded test/543321_dmn.slurm to /dipc/javidom/proyect-3-indicator/543321/543321_dmn.slurm on the cluster.\n"
     ]
    },
    {
     "name": "stderr",
     "output_type": "stream",
     "text": [
      "INFO:root:Command output: \n",
      "INFO:root:Command output: /scratch/javidom/proyect-3-indicator/543321/543321_dmn.slurm\n",
      "\n",
      "INFO:root:Moved 543321_dmn.slurm from colony to scratch for 543321\n",
      "INFO:root:Command output: \n",
      "INFO:root:Command output: /scratch/javidom/proyect-3-indicator/543321/543321.log\n",
      "\n",
      "INFO:root:Moved 543321.log from colony to scratch for 543321\n",
      "INFO:root:Command output: Submitted batch job 2522418\n",
      "\n",
      "INFO:root:Submitted job with ID 2522418 for 543321_dmn\n",
      "INFO:root:Submitted job 2522418 for 543321_dmn\n",
      "INFO:root:Monitoring job 2522418 for 543321_dmn...\n",
      "INFO:root:Command output:                JOBID   PARTITION         QOS                  NAME          USER    ST         TIME  NODES  NODELIST(REASON)\n",
      "             2522418     general     regular            543321_dmn       javidom    PD         0:00      1  (Priority)\n",
      "\n",
      "INFO:root:Job 2522418 for 543321_dmn still running, checking again in 1 seconds\n",
      "INFO:root:Command output:                JOBID   PARTITION         QOS                  NAME          USER    ST         TIME  NODES  NODELIST(REASON)\n",
      "             2522418     general     regular            543321_dmn       javidom    PD         0:00      1  (Priority)\n",
      "\n",
      "INFO:root:Job 2522418 for 543321_dmn still running, checking again in 2 seconds\n",
      "INFO:root:Command output:                JOBID   PARTITION         QOS                  NAME          USER    ST         TIME  NODES  NODELIST(REASON)\n",
      "             2522418     general     regular            543321_dmn       javidom    PD         0:00      1  (Priority)\n",
      "\n",
      "INFO:root:Job 2522418 for 543321_dmn still running, checking again in 4 seconds\n",
      "INFO:root:Command output:                JOBID   PARTITION         QOS                  NAME          USER    ST         TIME  NODES  NODELIST(REASON)\n",
      "             2522418     general     regular            543321_dmn       javidom    PD         0:00      1  (Priority)\n",
      "\n",
      "INFO:root:Job 2522418 for 543321_dmn still running, checking again in 8 seconds\n",
      "INFO:root:Command output:                JOBID   PARTITION         QOS                  NAME          USER    ST         TIME  NODES  NODELIST(REASON)\n",
      "             2522418     general     regular            543321_dmn       javidom    PD         0:00      1  (Priority)\n",
      "\n",
      "INFO:root:Job 2522418 for 543321_dmn still running, checking again in 16 seconds\n",
      "INFO:root:Command output:                JOBID   PARTITION         QOS                  NAME          USER    ST         TIME  NODES  NODELIST(REASON)\n",
      "             2522418     general     regular            543321_dmn       javidom    PD         0:00      1  (Priority)\n",
      "\n",
      "INFO:root:Job 2522418 for 543321_dmn still running, checking again in 20 seconds\n",
      "INFO:root:Command output:                JOBID   PARTITION         QOS                  NAME          USER    ST         TIME  NODES  NODELIST(REASON)\n",
      "\n",
      "INFO:root:Job 2522418 for 543321_dmn completed after 0:00:59.642115\n",
      "INFO:root:Job 2522418 completed successfully\n",
      "INFO:root:Job 2522418 completed successfully for 543321\n",
      "INFO:root:Command output: \n",
      "INFO:root:Command output: drwx------ 1 javidom qchem 22 Apr  9 16:39 /dipc/javidom/proyect-3-indicator/543321\n",
      "\n",
      "INFO:root:Command output: \n",
      "INFO:root:Created directory: /scratch/javidom/proyect-3-indicator/543321\n",
      "INFO:root:Created fresh scratch directory: /scratch/javidom/proyect-3-indicator/543321\n",
      "ERROR:root:Error executing command: ls: cannot access /dipc/javidom/proyect-3-indicator/543321/Test.FChk: No such file or directory\n",
      "\n",
      "ERROR:root:Error renaming output files for 543321: Test.FChk not found in /dipc/javidom/proyect-3-indicator/543321\n",
      "ERROR:root:Error preparing DM2PRIM input files for 543321: Test.FChk not found in /dipc/javidom/proyect-3-indicator/543321\n",
      "ERROR:root:Error in correlation flux for 543321: Test.FChk not found in /dipc/javidom/proyect-3-indicator/543321\n",
      "ERROR:root:Error in flux 543321: Test.FChk not found in /dipc/javidom/proyect-3-indicator/543321\n",
      "ERROR:project_3_indicator.handler.calculation:Calculation 543321 failed: Test.FChk not found in /dipc/javidom/proyect-3-indicator/543321\n",
      "ERROR:project_3_indicator.handler.calculation:Error in calculation workflow (354.3s): Test.FChk not found in /dipc/javidom/proyect-3-indicator/543321\n",
      "ERROR:project_3_indicator:Error in calculation execution: Test.FChk not found in /dipc/javidom/proyect-3-indicator/543321\n"
     ]
    },
    {
     "name": "stdout",
     "output_type": "stream",
     "text": [
      "Disconnected from cluster.\n",
      "Exception occurred: <class 'FileNotFoundError'>, Test.FChk not found in /dipc/javidom/proyect-3-indicator/543321\n",
      "Error processing N5+: Test.FChk not found in /dipc/javidom/proyect-3-indicator/543321. Skipping.\n"
     ]
    },
    {
     "data": {
      "image/png": "[encoded data removed]",
      "text/plain": [
       "<Figure size 1200x800 with 2 Axes>"
      ]
     },
     "metadata": {},
     "output_type": "display_data"
    },
    {
     "data": {
      "image/png": "[encoded data removed]",
      "text/plain": [
       "<Figure size 1200x800 with 2 Axes>"
      ]
     },
     "metadata": {},
     "output_type": "display_data"
    },
    {
     "data": {
      "text/html": [
       "<table border=\"1\" class=\"dataframe\">\n",
       "  <thead>\n",
       "    <tr style=\"text-align: right;\">\n",
       "      <th>Atom</th>\n",
       "      <th>Max X(r)</th>\n",
       "      <th>Position of Max X(r) (Å)</th>\n",
       "      <th>First Crossing of X(r)=1 (Å)</th>\n",
       "      <th>Max Indicator Dynamic</th>\n",
       "      <th>Max Pair Density Nucleus</th>\n",
       "    </tr>\n",
       "  </thead>\n",
       "  <tbody>\n",
       "    <tr>\n",
       "      <td>He</td>\n",
       "      <td>1.0039</td>\n",
       "      <td>3.0000</td>\n",
       "      <td>N/A</td>\n",
       "      <td>N/A</td>\n",
       "      <td>4.6522e+00</td>\n",
       "    </tr>\n",
       "  </tbody>\n",
       "</table>"
      ],
      "text/plain": [
       "<IPython.core.display.HTML object>"
      ]
     },
     "metadata": {},
     "output_type": "display_data"
    },
    {
     "name": "stdout",
     "output_type": "stream",
     "text": [
      "\n",
      "## Explanation of Results\n",
      "\n",
      "The plots above show the X(r) values (solid lines) and additional properties (dashed lines)\n",
      "for various two-electron systems (He, Li+, Be2+, B3+, C4+, N5+) calculated using CASSCF(2,2)\n",
      "with an even-tempered 5SPD basis set.\n",
      "\n",
      "The first plot compares X(r) with the indicator_dynamic property, while the second plot\n",
      "compares X(r) with the pair_density_nucleus property. Both secondary properties are displayed\n",
      "using an inverse logarithmic scale (1/log(property)) to better visualize their relationship\n",
      "with X(r).\n",
      "\n",
      "Key observations:\n",
      "\n",
      "1. All atoms show X(r) > 1 near the nucleus, indicating electron correlation effects.\n",
      "2. As we move to higher nuclear charges (from He to N5+), the maximum value of X(r) generally increases.\n",
      "3. The region where X(r) > 1 becomes more compact for higher nuclear charges.\n",
      "4. All curves eventually approach X(r) = 1 at large distances, which is the uncorrelated limit.\n",
      "5. The indicator_dynamic and pair_density_nucleus properties show interesting relationships with X(r),\n",
      "   with characteristic behaviors that differ depending on the nuclear charge.\n",
      "\n",
      "These calculations demonstrate how electron correlation effects change across an isoelectronic\n",
      "series with increasing nuclear charge, providing insights into the fundamental quantum\n",
      "mechanical behavior of these two-electron systems.\n",
      "\n"
     ]
    }
   ],
   "source": [
    "# Even-Tempered Basis Sets CASSCF Analysis\n",
    "# Plotting X(r) and other properties for He, Li+, Be2+, B3+, C4+, N5+\n",
    "\n",
    "import numpy as np\n",
    "import pandas as pd\n",
    "import matplotlib.pyplot as plt\n",
    "from matplotlib import cm\n",
    "import os\n",
    "from IPython.display import display, HTML\n",
    "from project_3_indicator import run_calculation\n",
    "\n",
    "# Set plotting style for better visuals\n",
    "plt.style.use('seaborn-v0_8-whitegrid')\n",
    "plt.rcParams.update({\n",
    "    'font.size': 14,\n",
    "    'axes.labelsize': 16,\n",
    "    'axes.titlesize': 18,\n",
    "    'xtick.labelsize': 14,\n",
    "    'ytick.labelsize': 14,\n",
    "    'legend.fontsize': 14,\n",
    "    'lines.linewidth': 3\n",
    "})\n",
    "\n",
    "# Define our atoms with respective charges\n",
    "atoms_data = [\n",
    "    {'name': 'helium', 'charge': 0, 'label': 'He'},\n",
    "    {'name': 'lithium_atom', 'charge': 1, 'label': 'Li+'},\n",
    "    {'name': 'beryllium_atom', 'charge': 2, 'label': 'Be2+'},\n",
    "    {'name': 'boron_atom', 'charge': 3, 'label': 'B3+'},\n",
    "    {'name': 'carbon_atom', 'charge': 4, 'label': 'C4+'},\n",
    "    {'name': 'nitrogen_atom', 'charge': 5, 'label': 'N5+'}\n",
    "]\n",
    "\n",
    "# Run calculations for each atom\n",
    "datasets = []\n",
    "for atom_info in atoms_data:\n",
    "    try:\n",
    "        input = {\n",
    "            \"molecule\": atom_info['name'],\n",
    "            \"charge\": atom_info['charge'],\n",
    "            \"multiplicity\": 1,\n",
    "            \"basis\": '5SPD',\n",
    "            \"method\": 'CASSCF(2,2)',\n",
    "            \"grid\": {'x': (0, 0.00), 'y': (0, 0), 'z': (3, 0.05)},\n",
    "            \"properties\": ['otr', 'pair_density_nucleus', 'indicator_dynamic']\n",
    "        }\n",
    "\n",
    "        # Run the calculation using the run_calculation function\n",
    "        result = run_calculation(input)\n",
    "\n",
    "        # Add a label for easier identification in plots\n",
    "        result['label'] = atom_info['label']\n",
    "\n",
    "        # Check if the required data is available in the result\n",
    "        if 'cube_df' in result:\n",
    "            datasets.append(result)\n",
    "        else:\n",
    "            print(f\"Warning: No cube_df data for {atom_info['label']}. Skipping.\")\n",
    "    except Exception as e:\n",
    "        print(f\"Error processing {atom_info['label']}: {str(e)}. Skipping.\")\n",
    "\n",
    "# Function to plot X(r) and indicator_dynamic for all atoms\n",
    "def plot_Xr_and_indicator(results, property_name='indicator_dynamic', title_suffix=''):\n",
    "    \"\"\"\n",
    "    Create a plot with X(r) values and selected property for different atoms.\n",
    "\n",
    "    Parameters:\n",
    "    - results: List of result dictionaries with cube_df\n",
    "    - property_name: The secondary property to plot on inverse log scale\n",
    "    - title_suffix: Additional text for the plot title\n",
    "\n",
    "    Returns:\n",
    "    - Matplotlib figure\n",
    "    \"\"\"\n",
    "    # Only proceed if we have results\n",
    "    if not results:\n",
    "        print(\"No valid results to plot.\")\n",
    "        return None\n",
    "\n",
    "    # Define a color palette\n",
    "    colors = plt.cm.viridis(np.linspace(0, 1, len(results)))\n",
    "\n",
    "    # Create figure with two y-axes\n",
    "    fig, ax1 = plt.subplots(figsize=(12, 8))\n",
    "    ax2 = ax1.twinx()\n",
    "\n",
    "    # Plot X(r) for each atom on the first y-axis\n",
    "    for i, result in enumerate(results):\n",
    "        if 'cube_df' not in result:\n",
    "            continue\n",
    "\n",
    "        df = result['cube_df']\n",
    "        atom_name = result['label']\n",
    "\n",
    "        # Check if the required columns exist\n",
    "        if 'X(r)' not in df.columns:\n",
    "            print(f\"Warning: No X(r) data for {atom_name}. Skipping this atom.\")\n",
    "            continue\n",
    "\n",
    "        # Sort by z-coordinate to ensure proper line plotting\n",
    "        # Assuming data is along z-axis with x=y=0\n",
    "        df_sorted = df.sort_values(by='z')\n",
    "\n",
    "        # Plot X(r) (using z as the radial coordinate)\n",
    "        ax1.plot(df_sorted['z'], df_sorted['X(r)'],\n",
    "                color=colors[i],\n",
    "                linewidth=3,\n",
    "                label=f\"{atom_name}\")\n",
    "\n",
    "        # Plot secondary property if available\n",
    "        if property_name in df.columns:\n",
    "            # Ensure no zero or negative values for log scale\n",
    "            valid_data = df_sorted[df_sorted[property_name] > 0]\n",
    "            if not valid_data.empty:\n",
    "                ax2.plot(valid_data['z'], 1/np.log10(valid_data[property_name]),\n",
    "                        color=colors[i],\n",
    "                        linewidth=2,\n",
    "                        linestyle='--')\n",
    "\n",
    "    # Add reference line for X(r) = 1\n",
    "    ax1.axhline(y=1, color='gray', linewidth=1, linestyle='--', alpha=0.5)\n",
    "\n",
    "    # Customize plot\n",
    "    ax1.set_xlabel('r (Å)', fontweight='bold')\n",
    "    ax1.set_ylabel('X(r)', fontweight='bold', color='black')\n",
    "    ax2.set_ylabel(f'1/log({property_name})', fontweight='bold', color='darkred')\n",
    "\n",
    "    plot_title = f'Comparison of X(r) and {property_name} for He-like Systems\\nCASCSF(2,2)/5SPD {title_suffix}'\n",
    "    ax1.set_title(plot_title, fontsize=18, fontweight='bold', pad=10)\n",
    "\n",
    "    # Show only the region of interest\n",
    "    ax1.set_xlim(0, 5)\n",
    "    ax1.set_ylim(0, 2)\n",
    "\n",
    "    ax1.grid(True, linestyle='--', alpha=0.3)\n",
    "    ax1.legend(loc='upper right', frameon=True)\n",
    "\n",
    "    # Add annotation to explain dashed lines\n",
    "    fig.text(0.15, 0.02, f\"Solid lines: X(r)  |  Dashed lines: 1/log({property_name})\",\n",
    "             fontsize=12, fontweight='bold')\n",
    "\n",
    "    plt.tight_layout()\n",
    "    return fig\n",
    "\n",
    "# Create the two requested plots if we have data\n",
    "if datasets:\n",
    "    # Plot X(r) and indicator_dynamic\n",
    "    fig1 = plot_Xr_and_indicator(datasets, 'indicator_dynamic', 'with Indicator Dynamic')\n",
    "    if fig1:\n",
    "        plt.figure(fig1.number)\n",
    "        plt.savefig('Xr_and_indicator_dynamic.png', dpi=300, bbox_inches='tight')\n",
    "        plt.show()\n",
    "\n",
    "    # Plot X(r) and pair_density_nucleus\n",
    "    fig2 = plot_Xr_and_indicator(datasets, 'pair_density_nucleus', 'with Pair Density Nucleus')\n",
    "    if fig2:\n",
    "        plt.figure(fig2.number)\n",
    "        plt.savefig('Xr_and_pair_density_nucleus.png', dpi=300, bbox_inches='tight')\n",
    "        plt.show()\n",
    "else:\n",
    "    print(\"No valid datasets available for plotting.\")\n",
    "\n",
    "# Create a table with key metrics for the atoms we could process\n",
    "def create_metrics_table(results):\n",
    "    \"\"\"Create a table with key metrics for each atom.\"\"\"\n",
    "    if not results:\n",
    "        print(\"No data available for metrics table.\")\n",
    "        return None\n",
    "\n",
    "    metrics = []\n",
    "\n",
    "    for result in results:\n",
    "        if 'cube_df' not in result:\n",
    "            continue\n",
    "\n",
    "        df = result['cube_df']\n",
    "        atom_name = result['label']\n",
    "\n",
    "        # Skip if required data is missing\n",
    "        if 'X(r)' not in df.columns:\n",
    "            continue\n",
    "\n",
    "        # Sort by z-coordinate (as radial distance)\n",
    "        df_sorted = df.sort_values(by='z')\n",
    "\n",
    "        # Calculate metrics\n",
    "        try:\n",
    "            max_Xr = df_sorted['X(r)'].max()\n",
    "            max_Xr_position = df_sorted.loc[df_sorted['X(r)'].idxmax(), 'z']\n",
    "\n",
    "            # Find where X(r) crosses 1.0 from above\n",
    "            r_values = df_sorted['z'].values\n",
    "            Xr_values = df_sorted['X(r)'].values\n",
    "\n",
    "            # Check if there's any value above 1.0\n",
    "            if np.any(Xr_values > 1.0):\n",
    "                crossing_indices = np.where(np.diff((Xr_values > 1.0).astype(int)) < 0)[0]\n",
    "                if len(crossing_indices) > 0:\n",
    "                    first_crossing = r_values[crossing_indices[0] + 1]  # +1 because diff reduces array size by 1\n",
    "                else:\n",
    "                    first_crossing = \"N/A\"\n",
    "            else:\n",
    "                first_crossing = \"N/A\"\n",
    "\n",
    "            # Collect additional property data if available\n",
    "            indicator_max = df_sorted['indicator_dynamic'].max() if 'indicator_dynamic' in df_sorted.columns else \"N/A\"\n",
    "            pair_density_max = df_sorted['pair_density_nucleus'].max() if 'pair_density_nucleus' in df_sorted.columns else \"N/A\"\n",
    "\n",
    "            metrics.append({\n",
    "                'Atom': atom_name,\n",
    "                'Max X(r)': f\"{max_Xr:.4f}\",\n",
    "                'Position of Max X(r) (Å)': f\"{max_Xr_position:.4f}\",\n",
    "                'First Crossing of X(r)=1 (Å)': f\"{first_crossing}\",\n",
    "                'Max Indicator Dynamic': f\"{indicator_max:.4e}\" if indicator_max != \"N/A\" else \"N/A\",\n",
    "                'Max Pair Density Nucleus': f\"{pair_density_max:.4e}\" if pair_density_max != \"N/A\" else \"N/A\"\n",
    "            })\n",
    "        except Exception as e:\n",
    "            print(f\"Error calculating metrics for {atom_name}: {str(e)}\")\n",
    "\n",
    "    if metrics:\n",
    "        return pd.DataFrame(metrics)\n",
    "    else:\n",
    "        return None\n",
    "\n",
    "# Display metrics table\n",
    "metrics_df = create_metrics_table(datasets)\n",
    "if metrics_df is not None:\n",
    "    display(HTML(metrics_df.to_html(index=False)))\n",
    "    # Also save the table to a CSV file\n",
    "    metrics_df.to_csv('atom_metrics.csv', index=False)\n",
    "\n",
    "# Explanation of the results\n",
    "print(\"\"\"\n",
    "## Explanation of Results\n",
    "\n",
    "The plots above show the X(r) values (solid lines) and additional properties (dashed lines)\n",
    "for various two-electron systems (He, Li+, Be2+, B3+, C4+, N5+) calculated using CASSCF(2,2)\n",
    "with an even-tempered 5SPD basis set.\n",
    "\n",
    "The first plot compares X(r) with the indicator_dynamic property, while the second plot\n",
    "compares X(r) with the pair_density_nucleus property. Both secondary properties are displayed\n",
    "using an inverse logarithmic scale (1/log(property)) to better visualize their relationship\n",
    "with X(r).\n",
    "\n",
    "Key observations:\n",
    "\n",
    "1. All atoms show X(r) > 1 near the nucleus, indicating electron correlation effects.\n",
    "2. As we move to higher nuclear charges (from He to N5+), the maximum value of X(r) generally increases.\n",
    "3. The region where X(r) > 1 becomes more compact for higher nuclear charges.\n",
    "4. All curves eventually approach X(r) = 1 at large distances, which is the uncorrelated limit.\n",
    "5. The indicator_dynamic and pair_density_nucleus properties show interesting relationships with X(r),\n",
    "   with characteristic behaviors that differ depending on the nuclear charge.\n",
    "\n",
    "These calculations demonstrate how electron correlation effects change across an isoelectronic\n",
    "series with increasing nuclear charge, providing insights into the fundamental quantum\n",
    "mechanical behavior of these two-electron systems.\n",
    "\"\"\")"
   ]
  },
  {
   "cell_type": "code",
   "execution_count": null,
   "metadata": {},
   "outputs": [],
   "source": []
  }
 ],
 "metadata": {
  "kernelspec": {
   "display_name": "venv",
   "language": "python",
   "name": "python3"
  },
  "language_info": {
   "codemirror_mode": {
    "name": "ipython",
    "version": 3
   },
   "file_extension": ".py",
   "mimetype": "text/x-python",
   "name": "python",
   "nbconvert_exporter": "python",
   "pygments_lexer": "ipython3",
   "version": "3.9.21"
  }
 },
 "nbformat": 4,
 "nbformat_minor": 2
}
