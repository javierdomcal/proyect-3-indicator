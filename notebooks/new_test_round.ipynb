{
 "cells": [
  {
   "cell_type": "code",
   "execution_count": 1,
   "metadata": {},
   "outputs": [],
   "source": [
    "from project_3_indicator import run_calculation"
   ]
  },
  {
   "cell_type": "code",
   "execution_count": 2,
   "metadata": {},
   "outputs": [],
   "source": [
    "input = {\n",
    "    \"molecule\": \"helium\",\n",
    "    \"method\": \"CASSCF(2,2)\",\n",
    "    \"basis\": 'cc-pVDZ',\n",
    "    \"max_workers\": 6,\n",
    "    \"grid\": {},\n",
    "    \"properties\": 'otr'\n",
    "}"
   ]
  },
  {
   "cell_type": "code",
   "execution_count": 3,
   "metadata": {},
   "outputs": [
    {
     "name": "stderr",
     "output_type": "stream",
     "text": [
      "INFO:project_3_indicator.input.specification:Creating input specification for helium with CASSCF(2,2)/cc-pVDZ\n",
      "INFO:project_3_indicator.input.specification:Using default basis set 'cc-pVDZ'.\n",
      "INFO:project_3_indicator.handler.calculation:Processing calculation for helium with CASSCF(2,2)/cc-pVDZ\n",
      "INFO:project_3_indicator.handler.calculation:Found completed calculation 1 with all requested properties\n"
     ]
    },
    {
     "name": "stdout",
     "output_type": "stream",
     "text": [
      "Connected to atlas.\n",
      "Geometry for helium successfully loaded.\n",
      "Method name: CASSCF(2,2) False\n",
      "Disconnected from cluster.\n",
      "{'calculation_id': 1, 'molecule_name': 'helium', 'method_name': 'CASSCF(2,2)', 'basis_name': 'cc-pVDZ', 'energy': None, 'calculation_time': '0 days  0 hours  0 minutes  4.4 seconds.', 'geometry': '', 'ontop_cube': None, 'status': 'completed', 'error_message': \"join() argument must be str, bytes, or os.PathLike object, not 'int'\"}\n"
     ]
    }
   ],
   "source": [
    "results = run_calculation(input)\n",
    "\n",
    "print(results)"
   ]
  },
  {
   "cell_type": "code",
   "execution_count": null,
   "metadata": {},
   "outputs": [],
   "source": []
  }
 ],
 "metadata": {
  "kernelspec": {
   "display_name": "venv",
   "language": "python",
   "name": "python3"
  },
  "language_info": {
   "codemirror_mode": {
    "name": "ipython",
    "version": 3
   },
   "file_extension": ".py",
   "mimetype": "text/x-python",
   "name": "python",
   "nbconvert_exporter": "python",
   "pygments_lexer": "ipython3",
   "version": "3.9.21"
  }
 },
 "nbformat": 4,
 "nbformat_minor": 2
}
