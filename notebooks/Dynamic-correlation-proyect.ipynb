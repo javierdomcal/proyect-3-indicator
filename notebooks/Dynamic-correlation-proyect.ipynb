{
 "cells": [
  {
   "cell_type": "markdown",
   "id": "1e3fff90-92ae-4a79-afd1-502d597cda33",
   "metadata": {},
   "source": [
    "# Dynamic Correlation Indicator Project\n",
    "This is the notebook for the Dynamic Correlation Indicator, which will include code, data analysis, and visualizations."
   ]
  },
  {
   "cell_type": "markdown",
   "id": "ca9394c5-9efd-4ffb-ab9c-a9f50046ea24",
   "metadata": {},
   "source": [
    "## Setting up the proyect"
   ]
  },
  {
   "cell_type": "markdown",
   "id": "8e484478-210b-4e08-a85c-1acc8c8a2527",
   "metadata": {},
   "source": [
    "### Python packages"
   ]
  },
  {
   "cell_type": "code",
   "execution_count": 5,
   "id": "3b497384-c2ea-465e-9a5d-33116beaef7a",
   "metadata": {},
   "outputs": [],
   "source": [
    "import numpy as np\n",
    "import pandas as pd\n",
    "import matplotlib.pyplot as plt"
   ]
  },
  {
   "cell_type": "code",
   "execution_count": 6,
   "id": "c1dabaaa-051e-4e29-ba08-dc6a9bf806ae",
   "metadata": {},
   "outputs": [],
   "source": [
    "!pip freeze > requirements.txt"
   ]
  },
  {
   "cell_type": "code",
   "execution_count": null,
   "id": "22d432fc-38d8-4d48-a7e5-65a67a84b718",
   "metadata": {},
   "outputs": [],
   "source": [
    "# Configuraciones iniciales para gráficos\n",
    "%matplotlib inline"
   ]
  }
 ],
 "metadata": {
  "kernelspec": {
   "display_name": "Python 3 (ipykernel)",
   "language": "python",
   "name": "python3"
  },
  "language_info": {
   "codemirror_mode": {
    "name": "ipython",
    "version": 3
   },
   "file_extension": ".py",
   "mimetype": "text/x-python",
   "name": "python",
   "nbconvert_exporter": "python",
   "pygments_lexer": "ipython3",
   "version": "3.9.7"
  }
 },
 "nbformat": 4,
 "nbformat_minor": 5
}
